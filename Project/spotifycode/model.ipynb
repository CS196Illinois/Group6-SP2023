{
 "cells": [
  {
   "cell_type": "code",
   "execution_count": 23,
   "metadata": {},
   "outputs": [],
   "source": [
    "import pandas as pd \n",
    "import numpy as np\n",
    "import matplotlib.pyplot as plt\n",
    "from sklearn.model_selection import train_test_split\n",
    "from sklearn.multiclass import OneVsRestClassifier\n",
    "from  sklearn.neural_network import MLPClassifier\n",
    "import pickle"
   ]
  },
  {
   "cell_type": "code",
   "execution_count": 24,
   "metadata": {},
   "outputs": [],
   "source": [
    "df_total = pd.read_csv(\"total.csv\")\n",
    "df_total.loc[df_total[\"tag\"] == \"calm\", \"tag\"] = 0\n",
    "df_total.loc[df_total[\"tag\"] == \"happy\", \"tag\"] = 1\n",
    "df_total.loc[df_total[\"tag\"] == \"energ\", \"tag\"] = 2\n",
    "df_total.loc[df_total[\"tag\"] == \"sad\", \"tag\"] = 3"
   ]
  },
  {
   "cell_type": "code",
   "execution_count": 25,
   "metadata": {},
   "outputs": [],
   "source": [
    "\n",
    "# Normalize the DataFrame to be between 0 and 1\n",
    "min_value = df_total[[\"Tempo\"]].min()\n",
    "max_value = df_total[[\"Tempo\"]].max()\n",
    "df_total[\"Tempo\"] = (df_total[[\"Tempo\"]] - min_value) / (max_value - min_value)\n",
    "\n",
    "min_value = df_total[[\"Loudness\"]].min()\n",
    "max_value = df_total[[\"Loudness\"]].max()\n",
    "df_total[\"Loudness\"] = (df_total[[\"Loudness\"]] - min_value) / (max_value - min_value)\n",
    "\n",
    "min_value = df_total[[\"Key\"]].min()\n",
    "max_value = df_total[[\"Key\"]].max()\n",
    "df_total[\"Key\"] = (df_total[[\"Key\"]] - min_value) / (max_value - min_value)\n",
    "\n"
   ]
  },
  {
   "cell_type": "code",
   "execution_count": 26,
   "metadata": {},
   "outputs": [],
   "source": [
    "df_total[[\"danceability\", \"energy\", \"key\", \"loudness\", \"speechiness\", \"acousticness\", \"instrumentalness\", \"liveness\", \"valence\", \"tempo\"]] = df_total[[\"Danceability\", \"Energy\", \"Key\", \"Loudness\", \"Speechiness\", \"Acousticness\", \"Instrumentalness\", \"Liveness\", \"Valence\", \"Tempo\"]]\n",
    "df_total = df_total.drop([\"Danceability\", \"Energy\", \"Key\", \"Loudness\", \"Speechiness\", \"Acousticness\", \"Instrumentalness\", \"Liveness\", \"Valence\", \"Tempo\"],axis= 1)"
   ]
  },
  {
   "cell_type": "code",
   "execution_count": 27,
   "metadata": {},
   "outputs": [],
   "source": [
    "data = df_total[[\"danceability\", \"energy\", \"key\", \"loudness\", \"speechiness\", \"acousticness\", \"instrumentalness\", \"liveness\", \"valence\", \"tempo\"]] \n",
    "data_target = df_total[[\"tag\"]].astype(int)\n",
    "df_total_after = df_total"
   ]
  },
  {
   "cell_type": "code",
   "execution_count": null,
   "metadata": {},
   "outputs": [],
   "source": [
    "song_x_train, song_x_test, song_y_train, song_y_test = train_test_split(data, data_target, test_size= 0.2, random_state= 42)\n",
    "model = OneVsRestClassifier(MLPClassifier(hidden_layer_sizes= (16, 10), activation= \"logistic\",max_iter= 1000, learning_rate_init= 0.01, alpha = 0.01), n_jobs = -1)\n",
    "song_y_train = np.ravel(song_y_train)\n",
    "song_y_test = np.ravel(song_y_test)\n",
    "model.fit(song_x_train,song_y_train)"
   ]
  },
  {
   "cell_type": "code",
   "execution_count": 29,
   "metadata": {},
   "outputs": [],
   "source": [
    "filename = \"model.pkl\"\n",
    "with open (filename, \"wb\") as file:\n",
    "    pickle.dump(model, file)\n"
   ]
  }
 ],
 "metadata": {
  "kernelspec": {
   "display_name": "Python 3",
   "language": "python",
   "name": "python3"
  },
  "language_info": {
   "codemirror_mode": {
    "name": "ipython",
    "version": 3
   },
   "file_extension": ".py",
   "mimetype": "text/x-python",
   "name": "python",
   "nbconvert_exporter": "python",
   "pygments_lexer": "ipython3",
   "version": "3.11.0"
  },
  "orig_nbformat": 4
 },
 "nbformat": 4,
 "nbformat_minor": 2
}
