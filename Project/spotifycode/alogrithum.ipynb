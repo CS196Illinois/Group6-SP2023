{
 "cells": [
  {
   "cell_type": "code",
   "execution_count": 4,
   "metadata": {},
   "outputs": [],
   "source": [
    "import pandas as pd \n",
    "import pip._vendor.requests as requests\n",
    "import spotipy\n",
    "import numpy as np\n",
    "import matplotlib as plt\n",
    "from spotipy.oauth2 import SpotifyOAuth\n",
    "import matplotlib.pyplot as plt\n",
    "from sklearn import metrics\n",
    "from sklearn.metrics import accuracy_score\n",
    "from sklearn.metrics import mean_squared_error\n",
    "from sklearn.preprocessing import LabelEncoder,MinMaxScaler\n",
    "from sklearn.model_selection import train_test_split\n",
    "from sklearn.cluster import KMeans\n",
    "from sklearn.svm import SVC\n",
    "from sklearn.datasets import load_iris\n",
    "from sklearn.multiclass import OutputCodeClassifier\n",
    "from sklearn.multiclass import OneVsRestClassifier\n",
    "from sklearn.multiclass import OneVsOneClassifier\n",
    "from sklearn.metrics import accuracy_score\n",
    "from sklearn.naive_bayes import MultinomialNB\n",
    "from sklearn.linear_model import LogisticRegression\n",
    "from sklearn.preprocessing import StandardScaler\n",
    "from sklearn.linear_model import LinearRegression \n",
    "from  sklearn.neural_network import MLPClassifier\n",
    "from sklearn.model_selection import GridSearchCV\n",
    "from sklearn.model_selection import StratifiedKFold\n",
    "from sklearn.feature_selection import RFECV\n",
    "from sklearn.ensemble import RandomForestClassifier \n",
    "import re\n",
    "import pickle\n",
    "scope1 = \"user-library-read\"\n",
    "from spotipy.oauth2 import SpotifyClientCredentials\n",
    "sp =spotipy.Spotify(auth_manager= SpotifyOAuth(client_id = \"15fd015d4da742d0bf7da9c6ed3120c7\", client_secret = \"349c5181636e4e3cbb974b051db425fd\", redirect_uri = \"http://localhost\", scope= scope1))\n",
    "scope1 = \"user-library-read\"\n",
    "from spotipy.oauth2 import SpotifyClientCredentials\n",
    "sp =spotipy.Spotify(auth_manager= SpotifyOAuth(client_id = \"15fd015d4da742d0bf7da9c6ed3120c7\", client_secret = \"349c5181636e4e3cbb974b051db425fd\", redirect_uri = \"http://localhost\", scope= scope1))"
   ]
  },
  {
   "cell_type": "code",
   "execution_count": null,
   "metadata": {},
   "outputs": [],
   "source": [
    "#gather data using soptify API\n",
    "\n",
    "output = pd.DataFrame()\n",
    "target_id = re.search(r'playlist\\/(.*)\\?', playlistlink).group(1)\n",
    "name = sp.playlist(playlistlink)[\"name\"]\n",
    "read = sp.playlist_tracks(playlistlink)\n",
    "for i in range (len(pd.DataFrame(read))) :\n",
    "    song = pd.DataFrame(read[\"items\"][i]).reset_index()\n",
    "    song_uri = song.at[4, \"track\"]\n",
    "    analysis = sp.audio_features(song_uri)\n",
    "    analy = pd.DataFrame(analysis)\n",
    "    output = pd.concat([output, analy])\n",
    "output = output.drop([\"mode\", \"duration_ms\", \"time_signature\" , \"type\"], axis= 1)"
   ]
  },
  {
   "cell_type": "code",
   "execution_count": 7,
   "metadata": {},
   "outputs": [],
   "source": [
    "\n",
    "# Normalize the DataFrame to be between 0 and 1\n",
    "min_value = output[[\"tempo\"]].min()\n",
    "max_value = output[[\"tempo\"]].max()\n",
    "output[\"tempo\"] = (output[[\"tempo\"]] - min_value) / (max_value - min_value)\n",
    "\n",
    "min_value = output[[\"loudness\"]].min()\n",
    "max_value = output[[\"loudness\"]].max()\n",
    "output[\"loudness\"] = (output[[\"loudness\"]] - min_value) / (max_value - min_value)\n",
    "\n",
    "min_value = output[[\"key\"]].min()\n",
    "max_value = output[[\"key\"]].max()\n",
    "output[\"key\"] = (output[[\"key\"]] - min_value) / (max_value - min_value)\n",
    "\n"
   ]
  },
  {
   "attachments": {},
   "cell_type": "markdown",
   "metadata": {},
   "source": [
    "*starting to classifed*"
   ]
  },
  {
   "cell_type": "code",
   "execution_count": 7,
   "metadata": {},
   "outputs": [
    {
     "ename": "NameError",
     "evalue": "name 'output' is not defined",
     "output_type": "error",
     "traceback": [
      "\u001b[0;31m---------------------------------------------------------------------------\u001b[0m",
      "\u001b[0;31mNameError\u001b[0m                                 Traceback (most recent call last)",
      "Cell \u001b[0;32mIn[7], line 2\u001b[0m\n\u001b[1;32m      1\u001b[0m \u001b[39m#target cloumn\u001b[39;00m\n\u001b[0;32m----> 2\u001b[0m column_select \u001b[39m=\u001b[39m output[[\u001b[39m\"\u001b[39m\u001b[39mdanceability\u001b[39m\u001b[39m\"\u001b[39m, \u001b[39m\"\u001b[39m\u001b[39menergy\u001b[39m\u001b[39m\"\u001b[39m, \u001b[39m\"\u001b[39m\u001b[39mkey\u001b[39m\u001b[39m\"\u001b[39m, \u001b[39m\"\u001b[39m\u001b[39mloudness\u001b[39m\u001b[39m\"\u001b[39m, \u001b[39m\"\u001b[39m\u001b[39mspeechiness\u001b[39m\u001b[39m\"\u001b[39m, \u001b[39m\"\u001b[39m\u001b[39macousticness\u001b[39m\u001b[39m\"\u001b[39m, \u001b[39m\"\u001b[39m\u001b[39minstrumentalness\u001b[39m\u001b[39m\"\u001b[39m, \u001b[39m\"\u001b[39m\u001b[39mliveness\u001b[39m\u001b[39m\"\u001b[39m, \u001b[39m\"\u001b[39m\u001b[39mvalence\u001b[39m\u001b[39m\"\u001b[39m, \u001b[39m\"\u001b[39m\u001b[39mtempo\u001b[39m\u001b[39m\"\u001b[39m]]\n",
      "\u001b[0;31mNameError\u001b[0m: name 'output' is not defined"
     ]
    }
   ],
   "source": [
    "#target cloumn\n",
    "column_select = output[[\"danceability\", \"energy\", \"key\", \"loudness\", \"speechiness\", \"acousticness\", \"instrumentalness\", \"liveness\", \"valence\", \"tempo\"]]"
   ]
  },
  {
   "cell_type": "code",
   "execution_count": 3,
   "metadata": {},
   "outputs": [],
   "source": [
    "# # load the saved model from file\n",
    "# filename = 'model.pkl'\n",
    "# with open(filename, 'rb') as file:\n",
    "#     loaded_model = pickle.load(file)\n"
   ]
  },
  {
   "cell_type": "code",
   "execution_count": 5,
   "metadata": {},
   "outputs": [],
   "source": [
    "filename = 'model.pkl'\n",
    "with open(filename, 'rb') as file:\n",
    "    loaded_model = pickle.load(file)"
   ]
  },
  {
   "cell_type": "code",
   "execution_count": 6,
   "metadata": {},
   "outputs": [
    {
     "ename": "NameError",
     "evalue": "name 'column_select' is not defined",
     "output_type": "error",
     "traceback": [
      "\u001b[0;31m---------------------------------------------------------------------------\u001b[0m",
      "\u001b[0;31mNameError\u001b[0m                                 Traceback (most recent call last)",
      "Cell \u001b[0;32mIn[6], line 1\u001b[0m\n\u001b[0;32m----> 1\u001b[0m output[\u001b[39m\"\u001b[39m\u001b[39mprediciton\u001b[39m\u001b[39m\"\u001b[39m] \u001b[39m=\u001b[39m loaded_model\u001b[39m.\u001b[39mpredict(column_select)\n",
      "\u001b[0;31mNameError\u001b[0m: name 'column_select' is not defined"
     ]
    }
   ],
   "source": [
    "output[\"prediciton\"] = loaded_model.predict(column_select)"
   ]
  },
  {
   "cell_type": "code",
   "execution_count": null,
   "metadata": {},
   "outputs": [],
   "source": [
    "# song_x_train, song_x_test, song_y_train, song_y_test = train_test_split(data, data_target, test_size= 0.2, random_state= 42)\n",
    "# df_result = []\n",
    "\n",
    "# model = OneVsRestClassifier(MLPClassifier(hidden_layer_sizes= (16, 10,), activation= \"logistic\",max_iter= 1000, learning_rate_init= 0.01, alpha = 0.01), n_jobs = -1)\n",
    "# song_y_train = np.ravel(song_y_train)\n",
    "# song_y_test = np.ravel(song_y_test)\n",
    "# model.fit(song_x_train,song_y_train)\n",
    "# output[\"prediciton\"] = model.predict(column_select)\n",
    "\n",
    "#four dataframe \n",
    "calm = output[output[\"prediction\"] == 0 ]\n",
    "happy = output[output[\"prediction\"] == 1 ]\n",
    "energy = output[output[\"prediction\"] == 2 ]\n",
    "sad = output[output[\"prediction\"] == 3 ]"
   ]
  }
 ],
 "metadata": {
  "kernelspec": {
   "display_name": "Python 3",
   "language": "python",
   "name": "python3"
  },
  "language_info": {
   "codemirror_mode": {
    "name": "ipython",
    "version": 3
   },
   "file_extension": ".py",
   "mimetype": "text/x-python",
   "name": "python",
   "nbconvert_exporter": "python",
   "pygments_lexer": "ipython3",
   "version": "3.11.0"
  },
  "orig_nbformat": 4
 },
 "nbformat": 4,
 "nbformat_minor": 2
}
