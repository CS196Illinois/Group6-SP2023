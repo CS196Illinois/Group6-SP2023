{
 "cells": [
  {
   "cell_type": "code",
   "execution_count": 90,
   "metadata": {},
   "outputs": [],
   "source": [
    "import pandas as pd \n",
    "import spotipy\n",
    "import numpy as np\n",
    "from spotipy.oauth2 import SpotifyOAuth \n",
    "import pickle\n",
    "scope1 = \"user-library-read\"\n",
    "from spotipy.oauth2 import SpotifyClientCredentials\n",
    "sp =spotipy.Spotify(auth_manager= SpotifyOAuth(client_id = \"15fd015d4da742d0bf7da9c6ed3120c7\", client_secret = \"349c5181636e4e3cbb974b051db425fd\", redirect_uri = \"http://localhost\", scope= scope1))"
   ]
  },
  {
   "cell_type": "code",
   "execution_count": 91,
   "metadata": {},
   "outputs": [],
   "source": [
    "filename = 'model.pkl'\n",
    "with open(filename, 'rb') as file:\n",
    "    loaded_model = pickle.load(file)"
   ]
  },
  {
   "cell_type": "code",
   "execution_count": 92,
   "metadata": {},
   "outputs": [],
   "source": [
    "liked_songs = []\n",
    "results = sp.current_user_saved_tracks()\n",
    "while results:\n",
    "    for item in results['items']:\n",
    "        track = item['track']\n",
    "        song_id = track['id']\n",
    "        row = {\"song_id\": song_id}\n",
    "        liked_songs.append(row)\n",
    "    results = sp.next(results)\n",
    "output = pd.DataFrame(liked_songs)"
   ]
  },
  {
   "cell_type": "code",
   "execution_count": 93,
   "metadata": {},
   "outputs": [
    {
     "data": {
      "text/html": [
       "<div>\n",
       "<style scoped>\n",
       "    .dataframe tbody tr th:only-of-type {\n",
       "        vertical-align: middle;\n",
       "    }\n",
       "\n",
       "    .dataframe tbody tr th {\n",
       "        vertical-align: top;\n",
       "    }\n",
       "\n",
       "    .dataframe thead th {\n",
       "        text-align: right;\n",
       "    }\n",
       "</style>\n",
       "<table border=\"1\" class=\"dataframe\">\n",
       "  <thead>\n",
       "    <tr style=\"text-align: right;\">\n",
       "      <th></th>\n",
       "      <th>danceability</th>\n",
       "      <th>energy</th>\n",
       "      <th>key</th>\n",
       "      <th>loudness</th>\n",
       "      <th>speechiness</th>\n",
       "      <th>acousticness</th>\n",
       "      <th>instrumentalness</th>\n",
       "      <th>liveness</th>\n",
       "      <th>valence</th>\n",
       "      <th>tempo</th>\n",
       "      <th>id</th>\n",
       "      <th>uri</th>\n",
       "      <th>track_href</th>\n",
       "      <th>analysis_url</th>\n",
       "    </tr>\n",
       "  </thead>\n",
       "  <tbody>\n",
       "    <tr>\n",
       "      <th>0</th>\n",
       "      <td>0.718</td>\n",
       "      <td>0.475</td>\n",
       "      <td>7</td>\n",
       "      <td>-11.469</td>\n",
       "      <td>0.0611</td>\n",
       "      <td>0.845000</td>\n",
       "      <td>0.801000</td>\n",
       "      <td>0.1050</td>\n",
       "      <td>0.678</td>\n",
       "      <td>157.032</td>\n",
       "      <td>4xk70Qur2QeRmWIzWPC63V</td>\n",
       "      <td>spotify:track:4xk70Qur2QeRmWIzWPC63V</td>\n",
       "      <td>https://api.spotify.com/v1/tracks/4xk70Qur2QeR...</td>\n",
       "      <td>https://api.spotify.com/v1/audio-analysis/4xk7...</td>\n",
       "    </tr>\n",
       "    <tr>\n",
       "      <th>1</th>\n",
       "      <td>0.854</td>\n",
       "      <td>0.682</td>\n",
       "      <td>8</td>\n",
       "      <td>-9.984</td>\n",
       "      <td>0.0333</td>\n",
       "      <td>0.298000</td>\n",
       "      <td>0.000024</td>\n",
       "      <td>0.1160</td>\n",
       "      <td>0.842</td>\n",
       "      <td>102.001</td>\n",
       "      <td>6xAtGKQApLCPft6DYR6fFK</td>\n",
       "      <td>spotify:track:6xAtGKQApLCPft6DYR6fFK</td>\n",
       "      <td>https://api.spotify.com/v1/tracks/6xAtGKQApLCP...</td>\n",
       "      <td>https://api.spotify.com/v1/audio-analysis/6xAt...</td>\n",
       "    </tr>\n",
       "    <tr>\n",
       "      <th>2</th>\n",
       "      <td>0.463</td>\n",
       "      <td>0.566</td>\n",
       "      <td>8</td>\n",
       "      <td>-6.195</td>\n",
       "      <td>0.1450</td>\n",
       "      <td>0.196000</td>\n",
       "      <td>0.000000</td>\n",
       "      <td>0.2840</td>\n",
       "      <td>0.219</td>\n",
       "      <td>93.921</td>\n",
       "      <td>6z1kLsntE7FuzKZHZWrXYN</td>\n",
       "      <td>spotify:track:6z1kLsntE7FuzKZHZWrXYN</td>\n",
       "      <td>https://api.spotify.com/v1/tracks/6z1kLsntE7Fu...</td>\n",
       "      <td>https://api.spotify.com/v1/audio-analysis/6z1k...</td>\n",
       "    </tr>\n",
       "    <tr>\n",
       "      <th>3</th>\n",
       "      <td>0.707</td>\n",
       "      <td>0.681</td>\n",
       "      <td>0</td>\n",
       "      <td>-4.325</td>\n",
       "      <td>0.0668</td>\n",
       "      <td>0.063200</td>\n",
       "      <td>0.000005</td>\n",
       "      <td>0.0322</td>\n",
       "      <td>0.646</td>\n",
       "      <td>117.999</td>\n",
       "      <td>4DHcnVTT87F0zZhRPYmZ3B</td>\n",
       "      <td>spotify:track:4DHcnVTT87F0zZhRPYmZ3B</td>\n",
       "      <td>https://api.spotify.com/v1/tracks/4DHcnVTT87F0...</td>\n",
       "      <td>https://api.spotify.com/v1/audio-analysis/4DHc...</td>\n",
       "    </tr>\n",
       "    <tr>\n",
       "      <th>4</th>\n",
       "      <td>0.681</td>\n",
       "      <td>0.580</td>\n",
       "      <td>0</td>\n",
       "      <td>-6.368</td>\n",
       "      <td>0.0686</td>\n",
       "      <td>0.650000</td>\n",
       "      <td>0.000003</td>\n",
       "      <td>0.1590</td>\n",
       "      <td>0.486</td>\n",
       "      <td>97.226</td>\n",
       "      <td>7GLn0324YKGYxbYN7GH8Ip</td>\n",
       "      <td>spotify:track:7GLn0324YKGYxbYN7GH8Ip</td>\n",
       "      <td>https://api.spotify.com/v1/tracks/7GLn0324YKGY...</td>\n",
       "      <td>https://api.spotify.com/v1/audio-analysis/7GLn...</td>\n",
       "    </tr>\n",
       "    <tr>\n",
       "      <th>...</th>\n",
       "      <td>...</td>\n",
       "      <td>...</td>\n",
       "      <td>...</td>\n",
       "      <td>...</td>\n",
       "      <td>...</td>\n",
       "      <td>...</td>\n",
       "      <td>...</td>\n",
       "      <td>...</td>\n",
       "      <td>...</td>\n",
       "      <td>...</td>\n",
       "      <td>...</td>\n",
       "      <td>...</td>\n",
       "      <td>...</td>\n",
       "      <td>...</td>\n",
       "    </tr>\n",
       "    <tr>\n",
       "      <th>1670</th>\n",
       "      <td>0.600</td>\n",
       "      <td>0.663</td>\n",
       "      <td>3</td>\n",
       "      <td>-5.802</td>\n",
       "      <td>0.0477</td>\n",
       "      <td>0.225000</td>\n",
       "      <td>0.000000</td>\n",
       "      <td>0.1190</td>\n",
       "      <td>0.286</td>\n",
       "      <td>121.070</td>\n",
       "      <td>4nVBt6MZDDP6tRVdQTgxJg</td>\n",
       "      <td>spotify:track:4nVBt6MZDDP6tRVdQTgxJg</td>\n",
       "      <td>https://api.spotify.com/v1/tracks/4nVBt6MZDDP6...</td>\n",
       "      <td>https://api.spotify.com/v1/audio-analysis/4nVB...</td>\n",
       "    </tr>\n",
       "    <tr>\n",
       "      <th>1671</th>\n",
       "      <td>0.653</td>\n",
       "      <td>0.822</td>\n",
       "      <td>0</td>\n",
       "      <td>-4.857</td>\n",
       "      <td>0.0330</td>\n",
       "      <td>0.000210</td>\n",
       "      <td>0.004700</td>\n",
       "      <td>0.0838</td>\n",
       "      <td>0.762</td>\n",
       "      <td>117.949</td>\n",
       "      <td>6BnONjR7itGMEqwxKTIlRM</td>\n",
       "      <td>spotify:track:6BnONjR7itGMEqwxKTIlRM</td>\n",
       "      <td>https://api.spotify.com/v1/tracks/6BnONjR7itGM...</td>\n",
       "      <td>https://api.spotify.com/v1/audio-analysis/6BnO...</td>\n",
       "    </tr>\n",
       "    <tr>\n",
       "      <th>1672</th>\n",
       "      <td>0.730</td>\n",
       "      <td>0.770</td>\n",
       "      <td>8</td>\n",
       "      <td>-5.114</td>\n",
       "      <td>0.0298</td>\n",
       "      <td>0.138000</td>\n",
       "      <td>0.000000</td>\n",
       "      <td>0.0473</td>\n",
       "      <td>0.507</td>\n",
       "      <td>104.948</td>\n",
       "      <td>1eq1wUnLVLg4pdEfx9kajC</td>\n",
       "      <td>spotify:track:1eq1wUnLVLg4pdEfx9kajC</td>\n",
       "      <td>https://api.spotify.com/v1/tracks/1eq1wUnLVLg4...</td>\n",
       "      <td>https://api.spotify.com/v1/audio-analysis/1eq1...</td>\n",
       "    </tr>\n",
       "    <tr>\n",
       "      <th>1673</th>\n",
       "      <td>0.554</td>\n",
       "      <td>0.321</td>\n",
       "      <td>9</td>\n",
       "      <td>-8.251</td>\n",
       "      <td>0.0280</td>\n",
       "      <td>0.893000</td>\n",
       "      <td>0.000000</td>\n",
       "      <td>0.0996</td>\n",
       "      <td>0.288</td>\n",
       "      <td>135.047</td>\n",
       "      <td>6QPKYGnAW9QozVz2dSWqRg</td>\n",
       "      <td>spotify:track:6QPKYGnAW9QozVz2dSWqRg</td>\n",
       "      <td>https://api.spotify.com/v1/tracks/6QPKYGnAW9Qo...</td>\n",
       "      <td>https://api.spotify.com/v1/audio-analysis/6QPK...</td>\n",
       "    </tr>\n",
       "    <tr>\n",
       "      <th>1674</th>\n",
       "      <td>0.459</td>\n",
       "      <td>0.741</td>\n",
       "      <td>4</td>\n",
       "      <td>-6.430</td>\n",
       "      <td>0.0495</td>\n",
       "      <td>0.000189</td>\n",
       "      <td>0.000000</td>\n",
       "      <td>0.4810</td>\n",
       "      <td>0.344</td>\n",
       "      <td>189.879</td>\n",
       "      <td>12AduRbcqhNsUHchIXrtrI</td>\n",
       "      <td>spotify:track:12AduRbcqhNsUHchIXrtrI</td>\n",
       "      <td>https://api.spotify.com/v1/tracks/12AduRbcqhNs...</td>\n",
       "      <td>https://api.spotify.com/v1/audio-analysis/12Ad...</td>\n",
       "    </tr>\n",
       "  </tbody>\n",
       "</table>\n",
       "<p>1675 rows × 14 columns</p>\n",
       "</div>"
      ],
      "text/plain": [
       "      danceability  energy  key  loudness  speechiness  acousticness  \\\n",
       "0            0.718   0.475    7   -11.469       0.0611      0.845000   \n",
       "1            0.854   0.682    8    -9.984       0.0333      0.298000   \n",
       "2            0.463   0.566    8    -6.195       0.1450      0.196000   \n",
       "3            0.707   0.681    0    -4.325       0.0668      0.063200   \n",
       "4            0.681   0.580    0    -6.368       0.0686      0.650000   \n",
       "...            ...     ...  ...       ...          ...           ...   \n",
       "1670         0.600   0.663    3    -5.802       0.0477      0.225000   \n",
       "1671         0.653   0.822    0    -4.857       0.0330      0.000210   \n",
       "1672         0.730   0.770    8    -5.114       0.0298      0.138000   \n",
       "1673         0.554   0.321    9    -8.251       0.0280      0.893000   \n",
       "1674         0.459   0.741    4    -6.430       0.0495      0.000189   \n",
       "\n",
       "      instrumentalness  liveness  valence    tempo                      id  \\\n",
       "0             0.801000    0.1050    0.678  157.032  4xk70Qur2QeRmWIzWPC63V   \n",
       "1             0.000024    0.1160    0.842  102.001  6xAtGKQApLCPft6DYR6fFK   \n",
       "2             0.000000    0.2840    0.219   93.921  6z1kLsntE7FuzKZHZWrXYN   \n",
       "3             0.000005    0.0322    0.646  117.999  4DHcnVTT87F0zZhRPYmZ3B   \n",
       "4             0.000003    0.1590    0.486   97.226  7GLn0324YKGYxbYN7GH8Ip   \n",
       "...                ...       ...      ...      ...                     ...   \n",
       "1670          0.000000    0.1190    0.286  121.070  4nVBt6MZDDP6tRVdQTgxJg   \n",
       "1671          0.004700    0.0838    0.762  117.949  6BnONjR7itGMEqwxKTIlRM   \n",
       "1672          0.000000    0.0473    0.507  104.948  1eq1wUnLVLg4pdEfx9kajC   \n",
       "1673          0.000000    0.0996    0.288  135.047  6QPKYGnAW9QozVz2dSWqRg   \n",
       "1674          0.000000    0.4810    0.344  189.879  12AduRbcqhNsUHchIXrtrI   \n",
       "\n",
       "                                       uri  \\\n",
       "0     spotify:track:4xk70Qur2QeRmWIzWPC63V   \n",
       "1     spotify:track:6xAtGKQApLCPft6DYR6fFK   \n",
       "2     spotify:track:6z1kLsntE7FuzKZHZWrXYN   \n",
       "3     spotify:track:4DHcnVTT87F0zZhRPYmZ3B   \n",
       "4     spotify:track:7GLn0324YKGYxbYN7GH8Ip   \n",
       "...                                    ...   \n",
       "1670  spotify:track:4nVBt6MZDDP6tRVdQTgxJg   \n",
       "1671  spotify:track:6BnONjR7itGMEqwxKTIlRM   \n",
       "1672  spotify:track:1eq1wUnLVLg4pdEfx9kajC   \n",
       "1673  spotify:track:6QPKYGnAW9QozVz2dSWqRg   \n",
       "1674  spotify:track:12AduRbcqhNsUHchIXrtrI   \n",
       "\n",
       "                                             track_href  \\\n",
       "0     https://api.spotify.com/v1/tracks/4xk70Qur2QeR...   \n",
       "1     https://api.spotify.com/v1/tracks/6xAtGKQApLCP...   \n",
       "2     https://api.spotify.com/v1/tracks/6z1kLsntE7Fu...   \n",
       "3     https://api.spotify.com/v1/tracks/4DHcnVTT87F0...   \n",
       "4     https://api.spotify.com/v1/tracks/7GLn0324YKGY...   \n",
       "...                                                 ...   \n",
       "1670  https://api.spotify.com/v1/tracks/4nVBt6MZDDP6...   \n",
       "1671  https://api.spotify.com/v1/tracks/6BnONjR7itGM...   \n",
       "1672  https://api.spotify.com/v1/tracks/1eq1wUnLVLg4...   \n",
       "1673  https://api.spotify.com/v1/tracks/6QPKYGnAW9Qo...   \n",
       "1674  https://api.spotify.com/v1/tracks/12AduRbcqhNs...   \n",
       "\n",
       "                                           analysis_url  \n",
       "0     https://api.spotify.com/v1/audio-analysis/4xk7...  \n",
       "1     https://api.spotify.com/v1/audio-analysis/6xAt...  \n",
       "2     https://api.spotify.com/v1/audio-analysis/6z1k...  \n",
       "3     https://api.spotify.com/v1/audio-analysis/4DHc...  \n",
       "4     https://api.spotify.com/v1/audio-analysis/7GLn...  \n",
       "...                                                 ...  \n",
       "1670  https://api.spotify.com/v1/audio-analysis/4nVB...  \n",
       "1671  https://api.spotify.com/v1/audio-analysis/6BnO...  \n",
       "1672  https://api.spotify.com/v1/audio-analysis/1eq1...  \n",
       "1673  https://api.spotify.com/v1/audio-analysis/6QPK...  \n",
       "1674  https://api.spotify.com/v1/audio-analysis/12Ad...  \n",
       "\n",
       "[1675 rows x 14 columns]"
      ]
     },
     "execution_count": 93,
     "metadata": {},
     "output_type": "execute_result"
    }
   ],
   "source": [
    "#gather data using soptify API\n",
    "song_ana = pd.DataFrame()\n",
    "for i in range (len(output)) :\n",
    "    analysis = sp.audio_features(output.at[i, \"song_id\"])\n",
    "    analy = pd.DataFrame(analysis)\n",
    "    song_ana = pd.concat([song_ana, analy])\n",
    "song_ana = song_ana.drop([\"type\", \"duration_ms\", \"time_signature\", \"mode\"], axis= 1).reset_index().drop([\"index\"], axis= 1)\n",
    "song_ana"
   ]
  },
  {
   "cell_type": "code",
   "execution_count": 94,
   "metadata": {},
   "outputs": [],
   "source": [
    "\n",
    "# Normalize the DataFrame to be between 0 and 1\n",
    "min_value = song_ana[[\"tempo\"]].min()\n",
    "max_value = song_ana[[\"tempo\"]].max()\n",
    "song_ana[\"tempo\"] = (song_ana[[\"tempo\"]] - min_value) / (max_value - min_value)\n",
    "\n",
    "min_value = song_ana[[\"loudness\"]].min()\n",
    "max_value = song_ana[[\"loudness\"]].max()\n",
    "song_ana[\"loudness\"] = (song_ana[[\"loudness\"]] - min_value) / (max_value - min_value)\n",
    "\n",
    "min_value = song_ana[[\"key\"]].min()\n",
    "max_value = song_ana[[\"key\"]].max()\n",
    "song_ana[\"key\"] = (song_ana[[\"key\"]] - min_value) / (max_value - min_value)\n"
   ]
  },
  {
   "attachments": {},
   "cell_type": "markdown",
   "metadata": {},
   "source": [
    "*starting to classifed*"
   ]
  },
  {
   "cell_type": "code",
   "execution_count": 95,
   "metadata": {},
   "outputs": [],
   "source": [
    "#target cloumn\n",
    "column_select = song_ana[[\"danceability\", \"energy\", \"key\", \"loudness\", \"speechiness\", \"acousticness\", \"instrumentalness\", \"liveness\", \"valence\", \"tempo\"]]"
   ]
  },
  {
   "cell_type": "code",
   "execution_count": 96,
   "metadata": {},
   "outputs": [],
   "source": [
    "song_ana[\"prediciton\"] = loaded_model.predict(column_select)"
   ]
  },
  {
   "cell_type": "code",
   "execution_count": 97,
   "metadata": {},
   "outputs": [],
   "source": [
    "calm = song_ana[song_ana['prediciton'] == 0 ]\n",
    "happy = song_ana[song_ana['prediciton'] == 1 ]\n",
    "energy = song_ana[song_ana['prediciton'] == 2 ]\n",
    "sad = song_ana[song_ana['prediciton'] == 3 ]"
   ]
  },
  {
   "cell_type": "code",
   "execution_count": 98,
   "metadata": {},
   "outputs": [
    {
     "data": {
      "text/plain": [
       "42"
      ]
     },
     "execution_count": 98,
     "metadata": {},
     "output_type": "execute_result"
    }
   ],
   "source": [
    "len(calm)"
   ]
  },
  {
   "cell_type": "code",
   "execution_count": 99,
   "metadata": {},
   "outputs": [
    {
     "data": {
      "text/plain": [
       "90"
      ]
     },
     "execution_count": 99,
     "metadata": {},
     "output_type": "execute_result"
    }
   ],
   "source": [
    "len(happy)"
   ]
  },
  {
   "cell_type": "code",
   "execution_count": 100,
   "metadata": {},
   "outputs": [
    {
     "data": {
      "text/plain": [
       "595"
      ]
     },
     "execution_count": 100,
     "metadata": {},
     "output_type": "execute_result"
    }
   ],
   "source": [
    "len(energy)"
   ]
  },
  {
   "cell_type": "code",
   "execution_count": 101,
   "metadata": {},
   "outputs": [
    {
     "data": {
      "text/plain": [
       "948"
      ]
     },
     "execution_count": 101,
     "metadata": {},
     "output_type": "execute_result"
    }
   ],
   "source": [
    "len(sad)"
   ]
  }
 ],
 "metadata": {
  "kernelspec": {
   "display_name": "Python 3",
   "language": "python",
   "name": "python3"
  },
  "language_info": {
   "codemirror_mode": {
    "name": "ipython",
    "version": 3
   },
   "file_extension": ".py",
   "mimetype": "text/x-python",
   "name": "python",
   "nbconvert_exporter": "python",
   "pygments_lexer": "ipython3",
   "version": "3.11.0"
  },
  "orig_nbformat": 4
 },
 "nbformat": 4,
 "nbformat_minor": 2
}
