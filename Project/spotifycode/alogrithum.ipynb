{
 "cells": [
  {
   "cell_type": "code",
   "execution_count": 2,
   "metadata": {},
   "outputs": [],
   "source": [
    "import pandas as pd \n",
    "import pip._vendor.requests as requests\n",
    "import spotipy\n",
    "import numpy as np\n",
    "import matplotlib as plt\n",
    "from spotipy.oauth2 import SpotifyOAuth\n",
    "import matplotlib.pyplot as plt\n",
    "from sklearn import metrics\n",
    "from sklearn.metrics import accuracy_score\n",
    "from sklearn.metrics import mean_squared_error\n",
    "from sklearn.preprocessing import LabelEncoder,MinMaxScaler\n",
    "from sklearn.model_selection import train_test_split\n",
    "from sklearn.cluster import KMeans\n",
    "from sklearn.svm import SVC\n",
    "from sklearn.datasets import load_iris\n",
    "from sklearn.multiclass import OutputCodeClassifier\n",
    "from sklearn.multiclass import OneVsRestClassifier\n",
    "from sklearn.multiclass import OneVsOneClassifier\n",
    "from sklearn.metrics import accuracy_score\n",
    "from sklearn.naive_bayes import MultinomialNB\n",
    "from sklearn.linear_model import LogisticRegression\n",
    "from sklearn.preprocessing import StandardScaler\n",
    "from sklearn.linear_model import LinearRegression \n",
    "from  sklearn.neural_network import MLPClassifier\n",
    "from sklearn.model_selection import GridSearchCV\n",
    "from sklearn.model_selection import StratifiedKFold\n",
    "from sklearn.feature_selection import RFECV\n",
    "from sklearn.ensemble import RandomForestClassifier \n",
    "import re\n",
    "import pickle\n",
    "scope1 = \"user-library-read\"\n",
    "from spotipy.oauth2 import SpotifyClientCredentials\n",
    "sp =spotipy.Spotify(auth_manager= SpotifyOAuth(client_id = \"15fd015d4da742d0bf7da9c6ed3120c7\", client_secret = \"349c5181636e4e3cbb974b051db425fd\", redirect_uri = \"http://localhost\", scope= scope1))\n",
    "scope1 = \"user-library-read\"\n",
    "from spotipy.oauth2 import SpotifyClientCredentials\n",
    "sp =spotipy.Spotify(auth_manager= SpotifyOAuth(client_id = \"15fd015d4da742d0bf7da9c6ed3120c7\", client_secret = \"349c5181636e4e3cbb974b051db425fd\", redirect_uri = \"http://localhost\", scope= scope1))"
   ]
  },
  {
   "cell_type": "code",
   "execution_count": null,
   "metadata": {},
   "outputs": [],
   "source": [
    "#gather data using soptify API\n",
    "\n",
    "output = pd.DataFrame()\n",
    "target_id = re.search(r'playlist\\/(.*)\\?', playlistlink).group(1)\n",
    "name = sp.playlist(playlistlink)[\"name\"]\n",
    "read = sp.playlist_tracks(playlistlink)\n",
    "for i in range (len(pd.DataFrame(read))) :\n",
    "    song = pd.DataFrame(read[\"items\"][i]).reset_index()\n",
    "    song_uri = song.at[4, \"track\"]\n",
    "    analysis = sp.audio_features(song_uri)\n",
    "    analy = pd.DataFrame(analysis)\n",
    "    output = pd.concat([output, analy])\n",
    "output = output.drop([\"mode\", \"duration_ms\", \"time_signature\" , \"type\"], axis= 1)"
   ]
  },
  {
   "cell_type": "code",
   "execution_count": 3,
   "metadata": {},
   "outputs": [],
   "source": [
    "output = pd.read_csv(\"total.csv\")"
   ]
  },
  {
   "cell_type": "code",
   "execution_count": 6,
   "metadata": {},
   "outputs": [],
   "source": [
    "output.loc[output[\"tag\"] == \"calm\", \"tag\"] = 0\n",
    "output.loc[output[\"tag\"] == \"happy\", \"tag\"] = 1\n",
    "output.loc[output[\"tag\"] == \"energ\", \"tag\"] = 2\n",
    "output.loc[output[\"tag\"] == \"sad\", \"tag\"] = 3"
   ]
  },
  {
   "cell_type": "code",
   "execution_count": 7,
   "metadata": {},
   "outputs": [],
   "source": [
    "\n",
    "# Normalize the DataFrame to be between 0 and 1\n",
    "min_value = output[[\"Tempo\"]].min().min()\n",
    "max_value = output[[\"Tempo\"]].max().max()\n",
    "output[\"Tempo\"] = (output[[\"Tempo\"]] - min_value) / (max_value - min_value)\n",
    "\n",
    "min_value = output[[\"Loudness\"]].min().min()\n",
    "max_value = output[[\"Loudness\"]].max().max()\n",
    "output[\"Loudness\"] = (output[[\"Loudness\"]] - min_value) / (max_value - min_value)\n",
    "\n",
    "min_value = output[[\"Key\"]].min().min()\n",
    "max_value = output[[\"Key\"]].max().max()\n",
    "output[\"Key\"] = (output[[\"Key\"]] - min_value) / (max_value - min_value)\n",
    "\n"
   ]
  },
  {
   "attachments": {},
   "cell_type": "markdown",
   "metadata": {},
   "source": [
    "*starting to classifed*"
   ]
  },
  {
   "cell_type": "code",
   "execution_count": 8,
   "metadata": {},
   "outputs": [
    {
     "data": {
      "text/plain": [
       "tag    int64\n",
       "dtype: object"
      ]
     },
     "execution_count": 8,
     "metadata": {},
     "output_type": "execute_result"
    }
   ],
   "source": [
    "#target cloumn\n",
    "column_select = output[[\"Danceability\", \"Energy\", \"Key\", \"Loudness\", \"Speechiness\", \"Acousticness\", \"Instrumentalness\", \"Liveness\", \"Valence\", \"Tempo\"]]\n",
    "data_target = output[[\"tag\"]].astype(int)\n",
    "data_target.dtypes"
   ]
  },
  {
   "cell_type": "code",
   "execution_count": 3,
   "metadata": {},
   "outputs": [],
   "source": [
    "# load the saved model from file\n",
    "filename = 'model.pkl'\n",
    "with open(filename, 'rb') as file:\n",
    "    loaded_model = pickle.load(file)\n"
   ]
  },
  {
   "cell_type": "code",
   "execution_count": null,
   "metadata": {},
   "outputs": [],
   "source": [
    "song_x_train, song_x_test, song_y_train, song_y_test = train_test_split(column_select, data_target, test_size= 0.2, random_state= 42)\n",
    "df_result = []\n",
    "\n",
    "for i in range(2000):\n",
    "    model = OneVsRestClassifier(MLPClassifier(hidden_layer_sizes= (16, 10,), activation= \"logistic\",max_iter= 1000, learning_rate_init= 0.01, alpha = 0.01), n_jobs = -1)\n",
    "    song_y_train = np.ravel(song_y_train)\n",
    "    song_y_test = np.ravel(song_y_test)\n",
    "    model.fit(song_x_train,song_y_train)\n",
    "    song_y_predict = model.predict(song_x_test)\n",
    "    output = {\"RMSE\": np.sqrt(mean_squared_error(song_y_test,song_y_predict)), \"accuracy_score\":metrics.accuracy_score(song_y_test, song_y_predict)}\n",
    "    df_result.append(output)\n",
    "        # print(\"RMSE\", np.sqrt(mean_squared_error(song_y_test,song_y_predict)))\n",
    "        # print(metrics.accuracy_score(song_y_test, song_y_predict))\n",
    "        # print(\"------\")\n",
    "df_analysis = pd.DataFrame(df_result)\n",
    "df_analysis"
   ]
  },
  {
   "cell_type": "code",
   "execution_count": 23,
   "metadata": {},
   "outputs": [
    {
     "data": {
      "text/plain": [
       "2000"
      ]
     },
     "execution_count": 23,
     "metadata": {},
     "output_type": "execute_result"
    }
   ],
   "source": [
    "len(df_analysis)"
   ]
  },
  {
   "cell_type": "code",
   "execution_count": null,
   "metadata": {},
   "outputs": [],
   "source": [
    "mean = df_analysis[\"accuracy_score\"].mean()\n",
    "std = df_analysis[\"accuracy_score\"].std()\n",
    "normal = np.random.normal(mean, std, size = len(df_analysis))\n",
    "plt.hist(normal, bins = 100,)"
   ]
  },
  {
   "cell_type": "code",
   "execution_count": null,
   "metadata": {},
   "outputs": [],
   "source": [
    "mean = df_analysis[\"RMSE\"].mean()\n",
    "std = df_analysis[\"RMSE\"].std()\n",
    "normal = np.random.normal(mean, std, size = len(df_analysis))\n",
    "plt.hist(normal, bins = 100, density= True)"
   ]
  },
  {
   "cell_type": "code",
   "execution_count": null,
   "metadata": {},
   "outputs": [],
   "source": []
  }
 ],
 "metadata": {
  "kernelspec": {
   "display_name": "Python 3",
   "language": "python",
   "name": "python3"
  },
  "language_info": {
   "codemirror_mode": {
    "name": "ipython",
    "version": 3
   },
   "file_extension": ".py",
   "mimetype": "text/x-python",
   "name": "python",
   "nbconvert_exporter": "python",
   "pygments_lexer": "ipython3",
   "version": "3.11.0"
  },
  "orig_nbformat": 4
 },
 "nbformat": 4,
 "nbformat_minor": 2
}
