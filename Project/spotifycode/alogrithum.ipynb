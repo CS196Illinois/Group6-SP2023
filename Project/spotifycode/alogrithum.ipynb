{
 "cells": [
  {
   "cell_type": "code",
   "execution_count": 64,
   "metadata": {},
   "outputs": [],
   "source": [
    "import pandas as pd \n",
    "import spotipy\n",
    "import numpy as np\n",
    "from spotipy.oauth2 import SpotifyOAuth \n",
    "import pickle\n",
    "scope1 = \"user-library-read\"\n",
    "from spotipy.oauth2 import SpotifyClientCredentials\n",
    "sp =spotipy.Spotify(auth_manager= SpotifyOAuth(client_id = \"15fd015d4da742d0bf7da9c6ed3120c7\", client_secret = \"349c5181636e4e3cbb974b051db425fd\", redirect_uri = \"http://localhost\", scope= scope1))"
   ]
  },
  {
   "cell_type": "code",
   "execution_count": 65,
   "metadata": {},
   "outputs": [],
   "source": [
    "filename = 'model.pkl'\n",
    "with open(filename, 'rb') as file:\n",
    "    loaded_model = pickle.load(file)"
   ]
  },
  {
   "cell_type": "code",
   "execution_count": 66,
   "metadata": {},
   "outputs": [],
   "source": [
    "liked_songs = []\n",
    "results = sp.current_user_saved_tracks()\n",
    "while results:\n",
    "    for item in results['items']:\n",
    "        track = item['track']\n",
    "        track_name = track['name']\n",
    "        artist_name = track['artists'][0]['name']\n",
    "        album_name = track['album']['name']\n",
    "        song_id = track['id']\n",
    "        row = {\"track_name\" :track_name, \"artist_name\" : artist_name, \"album_name\" : album_name, \"song_id\": song_id}\n",
    "        liked_songs.append(row)\n",
    "    results = sp.next(results)\n",
    "output = pd.DataFrame(liked_songs)"
   ]
  },
  {
   "cell_type": "code",
   "execution_count": 67,
   "metadata": {},
   "outputs": [],
   "source": [
    "#gather data using soptify API\n",
    "song_ana = pd.DataFrame()\n",
    "for i in range (len(output)) :\n",
    "    analysis = sp.audio_features(output.at[i, \"song_id\"])\n",
    "    analy = pd.DataFrame(analysis)\n",
    "    song_ana = pd.concat([song_ana, analy])\n",
    "song_ana = song_ana.drop([\"type\", \"duration_ms\", \"time_signature\", \"mode\"], axis= 1).reset_index().drop([\"index\"], axis= 1)"
   ]
  },
  {
   "cell_type": "code",
   "execution_count": 68,
   "metadata": {},
   "outputs": [],
   "source": [
    "\n",
    "# Normalize the DataFrame to be between 0 and 1\n",
    "min_value = song_ana[[\"tempo\"]].min()\n",
    "max_value = song_ana[[\"tempo\"]].max()\n",
    "song_ana[\"tempo\"] = (song_ana[[\"tempo\"]] - min_value) / (max_value - min_value)\n",
    "\n",
    "min_value = song_ana[[\"loudness\"]].min()\n",
    "max_value = song_ana[[\"loudness\"]].max()\n",
    "song_ana[\"loudness\"] = (song_ana[[\"loudness\"]] - min_value) / (max_value - min_value)\n",
    "\n",
    "min_value = song_ana[[\"key\"]].min()\n",
    "max_value = song_ana[[\"key\"]].max()\n",
    "song_ana[\"key\"] = (song_ana[[\"key\"]] - min_value) / (max_value - min_value)\n"
   ]
  },
  {
   "attachments": {},
   "cell_type": "markdown",
   "metadata": {},
   "source": [
    "*starting to classifed*"
   ]
  },
  {
   "cell_type": "code",
   "execution_count": 69,
   "metadata": {},
   "outputs": [],
   "source": [
    "#target cloumn\n",
    "column_select = song_ana[[\"danceability\", \"energy\", \"key\", \"loudness\", \"speechiness\", \"acousticness\", \"instrumentalness\", \"liveness\", \"valence\", \"tempo\"]]"
   ]
  },
  {
   "cell_type": "code",
   "execution_count": 77,
   "metadata": {},
   "outputs": [],
   "source": [
    "song_ana[\"prediciton\"] = loaded_model.predict(column_select)"
   ]
  },
  {
   "cell_type": "code",
   "execution_count": 78,
   "metadata": {},
   "outputs": [
    {
     "data": {
      "text/html": [
       "<div>\n",
       "<style scoped>\n",
       "    .dataframe tbody tr th:only-of-type {\n",
       "        vertical-align: middle;\n",
       "    }\n",
       "\n",
       "    .dataframe tbody tr th {\n",
       "        vertical-align: top;\n",
       "    }\n",
       "\n",
       "    .dataframe thead th {\n",
       "        text-align: right;\n",
       "    }\n",
       "</style>\n",
       "<table border=\"1\" class=\"dataframe\">\n",
       "  <thead>\n",
       "    <tr style=\"text-align: right;\">\n",
       "      <th></th>\n",
       "      <th>danceability</th>\n",
       "      <th>energy</th>\n",
       "      <th>key</th>\n",
       "      <th>loudness</th>\n",
       "      <th>speechiness</th>\n",
       "      <th>acousticness</th>\n",
       "      <th>instrumentalness</th>\n",
       "      <th>liveness</th>\n",
       "      <th>valence</th>\n",
       "      <th>tempo</th>\n",
       "      <th>id</th>\n",
       "      <th>uri</th>\n",
       "      <th>track_href</th>\n",
       "      <th>analysis_url</th>\n",
       "      <th>prediciton</th>\n",
       "    </tr>\n",
       "  </thead>\n",
       "  <tbody>\n",
       "    <tr>\n",
       "      <th>0</th>\n",
       "      <td>0.718</td>\n",
       "      <td>0.475</td>\n",
       "      <td>0.636364</td>\n",
       "      <td>0.686736</td>\n",
       "      <td>0.0611</td>\n",
       "      <td>0.845000</td>\n",
       "      <td>0.801000</td>\n",
       "      <td>0.1050</td>\n",
       "      <td>0.678</td>\n",
       "      <td>0.640867</td>\n",
       "      <td>4xk70Qur2QeRmWIzWPC63V</td>\n",
       "      <td>spotify:track:4xk70Qur2QeRmWIzWPC63V</td>\n",
       "      <td>https://api.spotify.com/v1/tracks/4xk70Qur2QeR...</td>\n",
       "      <td>https://api.spotify.com/v1/audio-analysis/4xk7...</td>\n",
       "      <td>3</td>\n",
       "    </tr>\n",
       "    <tr>\n",
       "      <th>1</th>\n",
       "      <td>0.854</td>\n",
       "      <td>0.682</td>\n",
       "      <td>0.727273</td>\n",
       "      <td>0.731665</td>\n",
       "      <td>0.0333</td>\n",
       "      <td>0.298000</td>\n",
       "      <td>0.000024</td>\n",
       "      <td>0.1160</td>\n",
       "      <td>0.842</td>\n",
       "      <td>0.296070</td>\n",
       "      <td>6xAtGKQApLCPft6DYR6fFK</td>\n",
       "      <td>spotify:track:6xAtGKQApLCPft6DYR6fFK</td>\n",
       "      <td>https://api.spotify.com/v1/tracks/6xAtGKQApLCP...</td>\n",
       "      <td>https://api.spotify.com/v1/audio-analysis/6xAt...</td>\n",
       "      <td>2</td>\n",
       "    </tr>\n",
       "    <tr>\n",
       "      <th>2</th>\n",
       "      <td>0.463</td>\n",
       "      <td>0.566</td>\n",
       "      <td>0.727273</td>\n",
       "      <td>0.846303</td>\n",
       "      <td>0.1450</td>\n",
       "      <td>0.196000</td>\n",
       "      <td>0.000000</td>\n",
       "      <td>0.2840</td>\n",
       "      <td>0.219</td>\n",
       "      <td>0.245445</td>\n",
       "      <td>6z1kLsntE7FuzKZHZWrXYN</td>\n",
       "      <td>spotify:track:6z1kLsntE7FuzKZHZWrXYN</td>\n",
       "      <td>https://api.spotify.com/v1/tracks/6z1kLsntE7Fu...</td>\n",
       "      <td>https://api.spotify.com/v1/audio-analysis/6z1k...</td>\n",
       "      <td>3</td>\n",
       "    </tr>\n",
       "    <tr>\n",
       "      <th>3</th>\n",
       "      <td>0.707</td>\n",
       "      <td>0.681</td>\n",
       "      <td>0.000000</td>\n",
       "      <td>0.902880</td>\n",
       "      <td>0.0668</td>\n",
       "      <td>0.063200</td>\n",
       "      <td>0.000005</td>\n",
       "      <td>0.0322</td>\n",
       "      <td>0.646</td>\n",
       "      <td>0.396306</td>\n",
       "      <td>4DHcnVTT87F0zZhRPYmZ3B</td>\n",
       "      <td>spotify:track:4DHcnVTT87F0zZhRPYmZ3B</td>\n",
       "      <td>https://api.spotify.com/v1/tracks/4DHcnVTT87F0...</td>\n",
       "      <td>https://api.spotify.com/v1/audio-analysis/4DHc...</td>\n",
       "      <td>1</td>\n",
       "    </tr>\n",
       "    <tr>\n",
       "      <th>4</th>\n",
       "      <td>0.681</td>\n",
       "      <td>0.580</td>\n",
       "      <td>0.000000</td>\n",
       "      <td>0.841069</td>\n",
       "      <td>0.0686</td>\n",
       "      <td>0.650000</td>\n",
       "      <td>0.000003</td>\n",
       "      <td>0.1590</td>\n",
       "      <td>0.486</td>\n",
       "      <td>0.266152</td>\n",
       "      <td>7GLn0324YKGYxbYN7GH8Ip</td>\n",
       "      <td>spotify:track:7GLn0324YKGYxbYN7GH8Ip</td>\n",
       "      <td>https://api.spotify.com/v1/tracks/7GLn0324YKGY...</td>\n",
       "      <td>https://api.spotify.com/v1/audio-analysis/7GLn...</td>\n",
       "      <td>3</td>\n",
       "    </tr>\n",
       "    <tr>\n",
       "      <th>...</th>\n",
       "      <td>...</td>\n",
       "      <td>...</td>\n",
       "      <td>...</td>\n",
       "      <td>...</td>\n",
       "      <td>...</td>\n",
       "      <td>...</td>\n",
       "      <td>...</td>\n",
       "      <td>...</td>\n",
       "      <td>...</td>\n",
       "      <td>...</td>\n",
       "      <td>...</td>\n",
       "      <td>...</td>\n",
       "      <td>...</td>\n",
       "      <td>...</td>\n",
       "      <td>...</td>\n",
       "    </tr>\n",
       "    <tr>\n",
       "      <th>1670</th>\n",
       "      <td>0.600</td>\n",
       "      <td>0.663</td>\n",
       "      <td>0.272727</td>\n",
       "      <td>0.858193</td>\n",
       "      <td>0.0477</td>\n",
       "      <td>0.225000</td>\n",
       "      <td>0.000000</td>\n",
       "      <td>0.1190</td>\n",
       "      <td>0.286</td>\n",
       "      <td>0.415547</td>\n",
       "      <td>4nVBt6MZDDP6tRVdQTgxJg</td>\n",
       "      <td>spotify:track:4nVBt6MZDDP6tRVdQTgxJg</td>\n",
       "      <td>https://api.spotify.com/v1/tracks/4nVBt6MZDDP6...</td>\n",
       "      <td>https://api.spotify.com/v1/audio-analysis/4nVB...</td>\n",
       "      <td>3</td>\n",
       "    </tr>\n",
       "    <tr>\n",
       "      <th>1671</th>\n",
       "      <td>0.653</td>\n",
       "      <td>0.822</td>\n",
       "      <td>0.000000</td>\n",
       "      <td>0.886784</td>\n",
       "      <td>0.0330</td>\n",
       "      <td>0.000210</td>\n",
       "      <td>0.004700</td>\n",
       "      <td>0.0838</td>\n",
       "      <td>0.762</td>\n",
       "      <td>0.395993</td>\n",
       "      <td>6BnONjR7itGMEqwxKTIlRM</td>\n",
       "      <td>spotify:track:6BnONjR7itGMEqwxKTIlRM</td>\n",
       "      <td>https://api.spotify.com/v1/tracks/6BnONjR7itGM...</td>\n",
       "      <td>https://api.spotify.com/v1/audio-analysis/6BnO...</td>\n",
       "      <td>1</td>\n",
       "    </tr>\n",
       "    <tr>\n",
       "      <th>1672</th>\n",
       "      <td>0.730</td>\n",
       "      <td>0.770</td>\n",
       "      <td>0.727273</td>\n",
       "      <td>0.879009</td>\n",
       "      <td>0.0298</td>\n",
       "      <td>0.138000</td>\n",
       "      <td>0.000000</td>\n",
       "      <td>0.0473</td>\n",
       "      <td>0.507</td>\n",
       "      <td>0.314535</td>\n",
       "      <td>1eq1wUnLVLg4pdEfx9kajC</td>\n",
       "      <td>spotify:track:1eq1wUnLVLg4pdEfx9kajC</td>\n",
       "      <td>https://api.spotify.com/v1/tracks/1eq1wUnLVLg4...</td>\n",
       "      <td>https://api.spotify.com/v1/audio-analysis/1eq1...</td>\n",
       "      <td>2</td>\n",
       "    </tr>\n",
       "    <tr>\n",
       "      <th>1673</th>\n",
       "      <td>0.554</td>\n",
       "      <td>0.321</td>\n",
       "      <td>0.818182</td>\n",
       "      <td>0.784098</td>\n",
       "      <td>0.0280</td>\n",
       "      <td>0.893000</td>\n",
       "      <td>0.000000</td>\n",
       "      <td>0.0996</td>\n",
       "      <td>0.288</td>\n",
       "      <td>0.503120</td>\n",
       "      <td>6QPKYGnAW9QozVz2dSWqRg</td>\n",
       "      <td>spotify:track:6QPKYGnAW9QozVz2dSWqRg</td>\n",
       "      <td>https://api.spotify.com/v1/tracks/6QPKYGnAW9Qo...</td>\n",
       "      <td>https://api.spotify.com/v1/audio-analysis/6QPK...</td>\n",
       "      <td>3</td>\n",
       "    </tr>\n",
       "    <tr>\n",
       "      <th>1674</th>\n",
       "      <td>0.459</td>\n",
       "      <td>0.741</td>\n",
       "      <td>0.363636</td>\n",
       "      <td>0.839193</td>\n",
       "      <td>0.0495</td>\n",
       "      <td>0.000189</td>\n",
       "      <td>0.000000</td>\n",
       "      <td>0.4810</td>\n",
       "      <td>0.344</td>\n",
       "      <td>0.846671</td>\n",
       "      <td>12AduRbcqhNsUHchIXrtrI</td>\n",
       "      <td>spotify:track:12AduRbcqhNsUHchIXrtrI</td>\n",
       "      <td>https://api.spotify.com/v1/tracks/12AduRbcqhNs...</td>\n",
       "      <td>https://api.spotify.com/v1/audio-analysis/12Ad...</td>\n",
       "      <td>3</td>\n",
       "    </tr>\n",
       "  </tbody>\n",
       "</table>\n",
       "<p>1675 rows × 15 columns</p>\n",
       "</div>"
      ],
      "text/plain": [
       "      danceability  energy       key  loudness  speechiness  acousticness  \\\n",
       "0            0.718   0.475  0.636364  0.686736       0.0611      0.845000   \n",
       "1            0.854   0.682  0.727273  0.731665       0.0333      0.298000   \n",
       "2            0.463   0.566  0.727273  0.846303       0.1450      0.196000   \n",
       "3            0.707   0.681  0.000000  0.902880       0.0668      0.063200   \n",
       "4            0.681   0.580  0.000000  0.841069       0.0686      0.650000   \n",
       "...            ...     ...       ...       ...          ...           ...   \n",
       "1670         0.600   0.663  0.272727  0.858193       0.0477      0.225000   \n",
       "1671         0.653   0.822  0.000000  0.886784       0.0330      0.000210   \n",
       "1672         0.730   0.770  0.727273  0.879009       0.0298      0.138000   \n",
       "1673         0.554   0.321  0.818182  0.784098       0.0280      0.893000   \n",
       "1674         0.459   0.741  0.363636  0.839193       0.0495      0.000189   \n",
       "\n",
       "      instrumentalness  liveness  valence     tempo                      id  \\\n",
       "0             0.801000    0.1050    0.678  0.640867  4xk70Qur2QeRmWIzWPC63V   \n",
       "1             0.000024    0.1160    0.842  0.296070  6xAtGKQApLCPft6DYR6fFK   \n",
       "2             0.000000    0.2840    0.219  0.245445  6z1kLsntE7FuzKZHZWrXYN   \n",
       "3             0.000005    0.0322    0.646  0.396306  4DHcnVTT87F0zZhRPYmZ3B   \n",
       "4             0.000003    0.1590    0.486  0.266152  7GLn0324YKGYxbYN7GH8Ip   \n",
       "...                ...       ...      ...       ...                     ...   \n",
       "1670          0.000000    0.1190    0.286  0.415547  4nVBt6MZDDP6tRVdQTgxJg   \n",
       "1671          0.004700    0.0838    0.762  0.395993  6BnONjR7itGMEqwxKTIlRM   \n",
       "1672          0.000000    0.0473    0.507  0.314535  1eq1wUnLVLg4pdEfx9kajC   \n",
       "1673          0.000000    0.0996    0.288  0.503120  6QPKYGnAW9QozVz2dSWqRg   \n",
       "1674          0.000000    0.4810    0.344  0.846671  12AduRbcqhNsUHchIXrtrI   \n",
       "\n",
       "                                       uri  \\\n",
       "0     spotify:track:4xk70Qur2QeRmWIzWPC63V   \n",
       "1     spotify:track:6xAtGKQApLCPft6DYR6fFK   \n",
       "2     spotify:track:6z1kLsntE7FuzKZHZWrXYN   \n",
       "3     spotify:track:4DHcnVTT87F0zZhRPYmZ3B   \n",
       "4     spotify:track:7GLn0324YKGYxbYN7GH8Ip   \n",
       "...                                    ...   \n",
       "1670  spotify:track:4nVBt6MZDDP6tRVdQTgxJg   \n",
       "1671  spotify:track:6BnONjR7itGMEqwxKTIlRM   \n",
       "1672  spotify:track:1eq1wUnLVLg4pdEfx9kajC   \n",
       "1673  spotify:track:6QPKYGnAW9QozVz2dSWqRg   \n",
       "1674  spotify:track:12AduRbcqhNsUHchIXrtrI   \n",
       "\n",
       "                                             track_href  \\\n",
       "0     https://api.spotify.com/v1/tracks/4xk70Qur2QeR...   \n",
       "1     https://api.spotify.com/v1/tracks/6xAtGKQApLCP...   \n",
       "2     https://api.spotify.com/v1/tracks/6z1kLsntE7Fu...   \n",
       "3     https://api.spotify.com/v1/tracks/4DHcnVTT87F0...   \n",
       "4     https://api.spotify.com/v1/tracks/7GLn0324YKGY...   \n",
       "...                                                 ...   \n",
       "1670  https://api.spotify.com/v1/tracks/4nVBt6MZDDP6...   \n",
       "1671  https://api.spotify.com/v1/tracks/6BnONjR7itGM...   \n",
       "1672  https://api.spotify.com/v1/tracks/1eq1wUnLVLg4...   \n",
       "1673  https://api.spotify.com/v1/tracks/6QPKYGnAW9Qo...   \n",
       "1674  https://api.spotify.com/v1/tracks/12AduRbcqhNs...   \n",
       "\n",
       "                                           analysis_url  prediciton  \n",
       "0     https://api.spotify.com/v1/audio-analysis/4xk7...           3  \n",
       "1     https://api.spotify.com/v1/audio-analysis/6xAt...           2  \n",
       "2     https://api.spotify.com/v1/audio-analysis/6z1k...           3  \n",
       "3     https://api.spotify.com/v1/audio-analysis/4DHc...           1  \n",
       "4     https://api.spotify.com/v1/audio-analysis/7GLn...           3  \n",
       "...                                                 ...         ...  \n",
       "1670  https://api.spotify.com/v1/audio-analysis/4nVB...           3  \n",
       "1671  https://api.spotify.com/v1/audio-analysis/6BnO...           1  \n",
       "1672  https://api.spotify.com/v1/audio-analysis/1eq1...           2  \n",
       "1673  https://api.spotify.com/v1/audio-analysis/6QPK...           3  \n",
       "1674  https://api.spotify.com/v1/audio-analysis/12Ad...           3  \n",
       "\n",
       "[1675 rows x 15 columns]"
      ]
     },
     "execution_count": 78,
     "metadata": {},
     "output_type": "execute_result"
    }
   ],
   "source": [
    "song_ana"
   ]
  },
  {
   "cell_type": "code",
   "execution_count": 79,
   "metadata": {},
   "outputs": [],
   "source": [
    "calm = song_ana[song_ana['prediciton'] == 0 ]\n",
    "happy = song_ana[song_ana['prediciton'] == 1 ]\n",
    "energy = song_ana[song_ana['prediciton'] == 2 ]\n",
    "sad = song_ana[song_ana['prediciton'] == 3 ]"
   ]
  },
  {
   "cell_type": "code",
   "execution_count": 80,
   "metadata": {},
   "outputs": [
    {
     "data": {
      "text/plain": [
       "41"
      ]
     },
     "execution_count": 80,
     "metadata": {},
     "output_type": "execute_result"
    }
   ],
   "source": [
    "len(calm)"
   ]
  },
  {
   "cell_type": "code",
   "execution_count": 81,
   "metadata": {},
   "outputs": [
    {
     "data": {
      "text/plain": [
       "141"
      ]
     },
     "execution_count": 81,
     "metadata": {},
     "output_type": "execute_result"
    }
   ],
   "source": [
    "len(happy)"
   ]
  },
  {
   "cell_type": "code",
   "execution_count": 82,
   "metadata": {},
   "outputs": [
    {
     "data": {
      "text/plain": [
       "507"
      ]
     },
     "execution_count": 82,
     "metadata": {},
     "output_type": "execute_result"
    }
   ],
   "source": [
    "len(energy)"
   ]
  },
  {
   "cell_type": "code",
   "execution_count": 76,
   "metadata": {},
   "outputs": [
    {
     "data": {
      "text/plain": [
       "986"
      ]
     },
     "execution_count": 76,
     "metadata": {},
     "output_type": "execute_result"
    }
   ],
   "source": [
    "len(sad)"
   ]
  }
 ],
 "metadata": {
  "kernelspec": {
   "display_name": "Python 3",
   "language": "python",
   "name": "python3"
  },
  "language_info": {
   "codemirror_mode": {
    "name": "ipython",
    "version": 3
   },
   "file_extension": ".py",
   "mimetype": "text/x-python",
   "name": "python",
   "nbconvert_exporter": "python",
   "pygments_lexer": "ipython3",
   "version": "3.11.0"
  },
  "orig_nbformat": 4
 },
 "nbformat": 4,
 "nbformat_minor": 2
}
