{
 "cells": [
  {
   "cell_type": "code",
   "execution_count": 90,
   "metadata": {},
   "outputs": [],
   "source": [
    "import pandas as pd \n",
    "import spotipy\n",
    "import numpy as np\n",
    "from spotipy.oauth2 import SpotifyOAuth \n",
    "import pickle\n",
    "scope1 = \"user-library-read\"\n",
    "from spotipy.oauth2 import SpotifyClientCredentials\n",
    "sp =spotipy.Spotify(auth_manager= SpotifyOAuth(client_id = \"15fd015d4da742d0bf7da9c6ed3120c7\", client_secret = \"349c5181636e4e3cbb974b051db425fd\", redirect_uri = \"http://localhost\", scope= scope1))"
   ]
  },
  {
   "cell_type": "code",
   "execution_count": 91,
   "metadata": {},
   "outputs": [],
   "source": [
    "filename = 'model.pkl'\n",
    "with open(filename, 'rb') as file:\n",
    "    loaded_model = pickle.load(file)"
   ]
  },
  {
   "cell_type": "code",
   "execution_count": 92,
   "metadata": {},
   "outputs": [],
   "source": [
    "liked_songs = []\n",
    "results = sp.current_user_saved_tracks()\n",
    "while results:\n",
    "    for item in results['items']:\n",
    "        track = item['track']\n",
    "        song_id = track['id']\n",
    "        row = {\"song_id\": song_id}\n",
    "        liked_songs.append(row)\n",
    "    results = sp.next(results)\n",
    "output = pd.DataFrame(liked_songs)"
   ]
  },
  {
   "cell_type": "code",
   "execution_count": null,
   "metadata": {},
   "outputs": [],
   "source": [
    "#gather data using soptify API\n",
    "song_ana = pd.DataFrame()\n",
    "for i in range (len(output)) :\n",
    "    analysis = sp.audio_features(output.at[i, \"song_id\"])\n",
    "    analy = pd.DataFrame(analysis)\n",
    "    song_ana = pd.concat([song_ana, analy])\n",
    "song_ana = song_ana.drop([\"type\", \"duration_ms\", \"time_signature\", \"mode\"], axis= 1).reset_index().drop([\"index\"], axis= 1)\n",
    "song_ana"
   ]
  },
  {
   "cell_type": "code",
   "execution_count": 94,
   "metadata": {},
   "outputs": [],
   "source": [
    "\n",
    "# Normalize the DataFrame to be between 0 and 1\n",
    "min_value = song_ana[[\"tempo\"]].min()\n",
    "max_value = song_ana[[\"tempo\"]].max()\n",
    "song_ana[\"tempo\"] = (song_ana[[\"tempo\"]] - min_value) / (max_value - min_value)\n",
    "\n",
    "min_value = song_ana[[\"loudness\"]].min()\n",
    "max_value = song_ana[[\"loudness\"]].max()\n",
    "song_ana[\"loudness\"] = (song_ana[[\"loudness\"]] - min_value) / (max_value - min_value)\n",
    "\n",
    "min_value = song_ana[[\"key\"]].min()\n",
    "max_value = song_ana[[\"key\"]].max()\n",
    "song_ana[\"key\"] = (song_ana[[\"key\"]] - min_value) / (max_value - min_value)\n"
   ]
  },
  {
   "attachments": {},
   "cell_type": "markdown",
   "metadata": {},
   "source": [
    "*starting to classifed*"
   ]
  },
  {
   "cell_type": "code",
   "execution_count": 95,
   "metadata": {},
   "outputs": [],
   "source": [
    "#target cloumn\n",
    "column_select = song_ana[[\"danceability\", \"energy\", \"key\", \"loudness\", \"speechiness\", \"acousticness\", \"instrumentalness\", \"liveness\", \"valence\", \"tempo\"]]"
   ]
  },
  {
   "cell_type": "code",
   "execution_count": 96,
   "metadata": {},
   "outputs": [],
   "source": [
    "song_ana[\"prediciton\"] = loaded_model.predict(column_select)"
   ]
  },
  {
   "cell_type": "code",
   "execution_count": 97,
   "metadata": {},
   "outputs": [],
   "source": [
    "calm = song_ana[song_ana['prediciton'] == 0 ]\n",
    "happy = song_ana[song_ana['prediciton'] == 1 ]\n",
    "energy = song_ana[song_ana['prediciton'] == 2 ]\n",
    "sad = song_ana[song_ana['prediciton'] == 3 ]"
   ]
  },
  {
   "cell_type": "code",
   "execution_count": 98,
   "metadata": {},
   "outputs": [
    {
     "data": {
      "text/plain": [
       "42"
      ]
     },
     "execution_count": 98,
     "metadata": {},
     "output_type": "execute_result"
    }
   ],
   "source": [
    "len(calm)"
   ]
  },
  {
   "cell_type": "code",
   "execution_count": 99,
   "metadata": {},
   "outputs": [
    {
     "data": {
      "text/plain": [
       "90"
      ]
     },
     "execution_count": 99,
     "metadata": {},
     "output_type": "execute_result"
    }
   ],
   "source": [
    "len(happy)"
   ]
  },
  {
   "cell_type": "code",
   "execution_count": 100,
   "metadata": {},
   "outputs": [
    {
     "data": {
      "text/plain": [
       "595"
      ]
     },
     "execution_count": 100,
     "metadata": {},
     "output_type": "execute_result"
    }
   ],
   "source": [
    "len(energy)"
   ]
  },
  {
   "cell_type": "code",
   "execution_count": 101,
   "metadata": {},
   "outputs": [
    {
     "data": {
      "text/plain": [
       "948"
      ]
     },
     "execution_count": 101,
     "metadata": {},
     "output_type": "execute_result"
    }
   ],
   "source": [
    "len(sad)"
   ]
  }
 ],
 "metadata": {
  "kernelspec": {
   "display_name": "Python 3",
   "language": "python",
   "name": "python3"
  },
  "language_info": {
   "codemirror_mode": {
    "name": "ipython",
    "version": 3
   },
   "file_extension": ".py",
   "mimetype": "text/x-python",
   "name": "python",
   "nbconvert_exporter": "python",
   "pygments_lexer": "ipython3",
   "version": "3.11.0"
  },
  "orig_nbformat": 4
 },
 "nbformat": 4,
 "nbformat_minor": 2
}
