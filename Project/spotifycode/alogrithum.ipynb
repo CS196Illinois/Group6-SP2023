{
 "cells": [
  {
   "cell_type": "code",
   "execution_count": 217,
   "metadata": {},
   "outputs": [],
   "source": [
    "import pandas as pd \n",
    "import spotipy\n",
    "import numpy as np\n",
    "from spotipy.oauth2 import SpotifyOAuth \n",
    "import pickle\n",
    "from spotipy.oauth2 import SpotifyClientCredentials\n",
    "scope1 = \"user-library-read, user-library-modify, playlist-modify-public, playlist-modify-private, user-library-modify, playlist-read-collaborative, app-remote-control\"\n",
    "client_id = \"15fd015d4da742d0bf7da9c6ed3120c7\"\n",
    "client_secret = \"349c5181636e4e3cbb974b051db425fd\"\n",
    "sp =spotipy.Spotify(auth_manager= SpotifyOAuth(client_id = \"15fd015d4da742d0bf7da9c6ed3120c7\", client_secret = \"349c5181636e4e3cbb974b051db425fd\", redirect_uri = \"http://example.com\", scope= scope1))"
   ]
  },
  {
   "cell_type": "code",
   "execution_count": 218,
   "metadata": {},
   "outputs": [],
   "source": [
    "filename = 'model.pkl'\n",
    "with open(filename, 'rb') as file:\n",
    "    loaded_model = pickle.load(file)"
   ]
  },
  {
   "cell_type": "code",
   "execution_count": 219,
   "metadata": {},
   "outputs": [],
   "source": [
    "#create playlist\n",
    "name = [\"Calm\", \"Happy\", \"Energy\", \"Sad\"]\n",
    "for i in range(len(name)):\n",
    "    playlist_name = name[i]\n",
    "    user_id = sp.me()[\"id\"]\n",
    "    sp.user_playlist_create(user=user_id, name=playlist_name, public=True)"
   ]
  },
  {
   "cell_type": "code",
   "execution_count": 220,
   "metadata": {},
   "outputs": [],
   "source": [
    "#load all the liked song from users\n",
    "liked_songs = []\n",
    "results = sp.current_user_saved_tracks()\n",
    "while results:\n",
    "    for item in results['items']:\n",
    "        track = item['track']\n",
    "        song_id = track['id']\n",
    "        row = {\"song_id\": song_id}\n",
    "        liked_songs.append(row)\n",
    "    results = sp.next(results)\n",
    "output = pd.DataFrame(liked_songs)"
   ]
  },
  {
   "cell_type": "code",
   "execution_count": 221,
   "metadata": {},
   "outputs": [],
   "source": [
    "#gather data using soptify API\n",
    "song_ana = pd.DataFrame()\n",
    "for i in range (len(output)) :\n",
    "    analysis = sp.audio_features(output.at[i, \"song_id\"])\n",
    "    analy = pd.DataFrame(analysis)\n",
    "    song_ana = pd.concat([song_ana, analy])\n",
    "song_ana = song_ana.drop([\"type\", \"duration_ms\", \"time_signature\", \"mode\"], axis= 1).reset_index().drop([\"index\"], axis= 1)"
   ]
  },
  {
   "cell_type": "code",
   "execution_count": 222,
   "metadata": {},
   "outputs": [],
   "source": [
    "# Normalize the DataFrame to be between 0 and 1\n",
    "min_value = song_ana[[\"tempo\"]].min()\n",
    "max_value = song_ana[[\"tempo\"]].max()\n",
    "song_ana[\"tempo\"] = (song_ana[[\"tempo\"]] - min_value) / (max_value - min_value)\n",
    "\n",
    "min_value = song_ana[[\"loudness\"]].min()\n",
    "max_value = song_ana[[\"loudness\"]].max()\n",
    "song_ana[\"loudness\"] = (song_ana[[\"loudness\"]] - min_value) / (max_value - min_value)\n",
    "\n",
    "min_value = song_ana[[\"key\"]].min()\n",
    "max_value = song_ana[[\"key\"]].max()\n",
    "song_ana[\"key\"] = (song_ana[[\"key\"]] - min_value) / (max_value - min_value)\n"
   ]
  },
  {
   "attachments": {},
   "cell_type": "markdown",
   "metadata": {},
   "source": [
    "*starting to classifed*"
   ]
  },
  {
   "cell_type": "code",
   "execution_count": 223,
   "metadata": {},
   "outputs": [],
   "source": [
    "#target cloumn\n",
    "column_select = song_ana[[\"danceability\", \"energy\", \"key\", \"loudness\", \"speechiness\", \"acousticness\", \"instrumentalness\", \"liveness\", \"valence\", \"tempo\"]]"
   ]
  },
  {
   "cell_type": "code",
   "execution_count": 224,
   "metadata": {},
   "outputs": [],
   "source": [
    "song_ana[\"prediciton\"] = loaded_model.predict(column_select)"
   ]
  },
  {
   "cell_type": "code",
   "execution_count": 225,
   "metadata": {},
   "outputs": [],
   "source": [
    "calm = song_ana[song_ana['prediciton'] == 0 ].reset_index()\n",
    "happy = song_ana[song_ana['prediciton'] == 1 ].reset_index()\n",
    "energy = song_ana[song_ana['prediciton'] == 2 ].reset_index()\n",
    "sad = song_ana[song_ana['prediciton'] == 3 ].reset_index()"
   ]
  },
  {
   "cell_type": "code",
   "execution_count": 226,
   "metadata": {},
   "outputs": [
    {
     "name": "stdout",
     "output_type": "stream",
     "text": [
      "42\n",
      "90\n",
      "595\n",
      "948\n"
     ]
    }
   ],
   "source": [
    "print(len(calm))\n",
    "print(len(happy))\n",
    "print(len(energy))\n",
    "print(len(sad))"
   ]
  },
  {
   "cell_type": "code",
   "execution_count": 245,
   "metadata": {},
   "outputs": [],
   "source": [
    "playlist_array = [calm, happy, energy, sad]\n",
    "name = [\"Calm\", \"Happy\", \"Energy\", \"Sad\"]"
   ]
  },
  {
   "cell_type": "code",
   "execution_count": 242,
   "metadata": {},
   "outputs": [],
   "source": [
    "# getting playlist id\n",
    "for i in range(len(name)):\n",
    "    playlist = pd.DataFrame(sp.current_user_playlists()[\"items\"])\n",
    "    find_id = playlist[playlist[\"name\"] == name[i]].reset_index()\n",
    "    playlist_id = find_id.at[0,\"id\"]\n",
    "    # add song to the playlist\n",
    "    for j in range(len(playlist_array[i])):\n",
    "        sp.playlist_add_items(playlist_id = playlist_id, items = [playlist_array[i].at[j,\"id\"]])"
   ]
  }
 ],
 "metadata": {
  "kernelspec": {
   "display_name": "Python 3",
   "language": "python",
   "name": "python3"
  },
  "language_info": {
   "codemirror_mode": {
    "name": "ipython",
    "version": 3
   },
   "file_extension": ".py",
   "mimetype": "text/x-python",
   "name": "python",
   "nbconvert_exporter": "python",
   "pygments_lexer": "ipython3",
   "version": "3.11.0"
  },
  "orig_nbformat": 4
 },
 "nbformat": 4,
 "nbformat_minor": 2
}
