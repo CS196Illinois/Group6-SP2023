{
 "cells": [
  {
   "cell_type": "code",
   "execution_count": 9,
   "metadata": {},
   "outputs": [],
   "source": [
    "import pandas as pd \n",
    "import pip._vendor.requests as requests\n",
    "import spotipy\n",
    "from spotipy.oauth2 import SpotifyOAuth\n",
    "import re\n",
    "scope1 = \"user-library-read\"\n",
    "from spotipy.oauth2 import SpotifyClientCredentials\n",
    "sp =spotipy.Spotify(auth_manager= SpotifyOAuth(client_id = \"15fd015d4da742d0bf7da9c6ed3120c7\", client_secret = \"349c5181636e4e3cbb974b051db425fd\", redirect_uri = \"http://localhost\", scope= scope1))"
   ]
  },
  {
   "cell_type": "code",
   "execution_count": 13,
   "metadata": {},
   "outputs": [],
   "source": [
    "# df = pd.read_csv(\"cool.csv\")\n",
    "# devil_url = \"spotify:track:1ZEOIhSn6BKErV59bIgn76\" \n",
    "# results = sp.audio_features(devil_url)"
   ]
  },
  {
   "cell_type": "markdown",
   "metadata": {},
   "source": []
  },
  {
   "cell_type": "code",
   "execution_count": 11,
   "metadata": {},
   "outputs": [
    {
     "data": {
      "text/plain": [
       "'1wX2JmDgr1U27r4Wf5PVYn'"
      ]
     },
     "execution_count": 11,
     "metadata": {},
     "output_type": "execute_result"
    }
   ],
   "source": [
    "# playlist_url = \"https://open.spotify.com/playlist/1wX2JmDgr1U27r4Wf5PVYn?si=937e7ad9d4be4db2\"\n",
    "# target_id = re.search(r'playlist\\/(.*)\\?', playlist_url).group(1)\n",
    "# target_id"
   ]
  },
  {
   "cell_type": "code",
   "execution_count": 7,
   "metadata": {},
   "outputs": [],
   "source": [
    "# insert the playlist's url \n",
    "def music_analysis(playlistlink):\n",
    "    output = pd.DataFrame()\n",
    "    target_id = re.search(r'playlist\\/(.*)\\?', playlistlink).group(1)\n",
    "    name = sp.playlist(playlistlink)[\"name\"]\n",
    "    read = sp.playlist_tracks(playlistlink)\n",
    "    read\n",
    "    for i in range (len(pd.DataFrame(read))) :\n",
    "        song = pd.DataFrame(read[\"items\"][i]).reset_index()\n",
    "        song_uri = song.at[4, \"track\"]\n",
    "        analysis = sp.audio_features(song_uri)\n",
    "        analy = pd.DataFrame(analysis)\n",
    "        output = pd.concat([output, analy])\n",
    "    output = output.drop([\"mode\", \"duration_ms\", \"time_signature\" , \"type\"], axis= 1)\n",
    "    output.to_csv(\"/Users/apple/Desktop/spotifycode/\" + name + \".csv\", index = False)\n",
    "\n",
    "k = music_analysis(\"37i9dQZF1F0sijgNaJdgit\")\n"
   ]
  },
  {
   "cell_type": "code",
   "execution_count": 16,
   "metadata": {},
   "outputs": [],
   "source": [
    "# insert the playlist's url \n",
    "playlistlink = \"https://open.spotify.com/playlist/1wX2JmDgr1U27r4Wf5PVYn?si=c39f965a96da41fc\"\n",
    "output = pd.DataFrame()\n",
    "target_id = re.search(r'playlist\\/(.*)\\?', playlistlink).group(1)\n",
    "name = sp.playlist(playlistlink)[\"name\"]\n",
    "read = sp.playlist_tracks(playlistlink)\n",
    "read\n",
    "for i in range (len(pd.DataFrame(read))) :\n",
    "    song = pd.DataFrame(read[\"items\"][i]).reset_index()\n",
    "    song_uri = song.at[4, \"track\"]\n",
    "    analysis = sp.audio_features(song_uri)\n",
    "    analy = pd.DataFrame(analysis)\n",
    "    output = pd.concat([output, analy])\n",
    "output = output.drop([\"mode\", \"duration_ms\", \"time_signature\" , \"type\"], axis= 1)\n",
    "output.to_csv(\"/Users/apple/Desktop/spotifycode/\" + name + \".csv\", index = False)\n"
   ]
  },
  {
   "attachments": {},
   "cell_type": "markdown",
   "metadata": {},
   "source": [
    "below code is for testing"
   ]
  },
  {
   "cell_type": "code",
   "execution_count": null,
   "metadata": {},
   "outputs": [],
   "source": [
    "\n",
    "df = pd.read_csv(\"sad.csv\")\n",
    "\n",
    "df_result = pd.DataFrame()\n",
    "for i in df[\"Track URI\"] :\n",
    "    results = sp.audio_features(i)\n",
    "    df_re = pd.DataFrame(results)\n",
    "    df_result = pd.concat([df_result,df_re])\n",
    "df_result.to_csv(\"/Users/apple/Desktop/spotifycode/ sadresult.csv\", index = False)"
   ]
  },
  {
   "cell_type": "code",
   "execution_count": 43,
   "metadata": {},
   "outputs": [
    {
     "data": {
      "text/plain": [
       "'spotify:track:3RfTeIrWS8LNrfHYwechtt'"
      ]
     },
     "execution_count": 43,
     "metadata": {},
     "output_type": "execute_result"
    }
   ],
   "source": [
    "playlistlink = \"7GhawGpb43Ctkq3PRP1fOL\"\n",
    "read = sp.playlist_tracks(playlistlink)\n",
    "a = pd.DataFrame(read)\n",
    "a \n",
    "# song = pd.DataFrame(read[\"items\"][i]).reset_index()\n",
    "# add = a[\"items\"]\n",
    "# add\n",
    "add = pd.DataFrame(a[\"items\"][0]).reset_index().at[4,\"track\"]\n",
    "add"
   ]
  },
  {
   "cell_type": "code",
   "execution_count": null,
   "metadata": {},
   "outputs": [],
   "source": [
    "# devil_url = \"spotify:artist:06HL4z0CvFAxyc27GXpf02\"\n",
    "# results = sp.artist_albums(devil_url, album_type= \"album\")\n",
    "# albums = results['items']\n",
    "# while results['next']: \n",
    "#     results = sp.next(results) \n",
    "#     albums.extend(results[\"items\"])\n",
    "# data = []\n",
    "\n",
    "# for album in albums :\n",
    "#     d = {\"album\" : album[\"name\"]}\n",
    "#     data.append(d)\n",
    "#     print(album[\"name\"])\n",
    "\n",
    "# df = pd.DataFrame(data)\n",
    "\n"
   ]
  },
  {
   "cell_type": "code",
   "execution_count": 302,
   "metadata": {},
   "outputs": [],
   "source": [
    "# df_result.to_csv(\"/Users/apple/Desktop/spotifycode/ test.csv\", index = False)"
   ]
  },
  {
   "cell_type": "code",
   "execution_count": 258,
   "metadata": {},
   "outputs": [
    {
     "data": {
      "text/plain": [
       "100"
      ]
     },
     "execution_count": 258,
     "metadata": {},
     "output_type": "execute_result"
    }
   ],
   "source": [
    "# b = pd.DataFrame(read)\n",
    "# len(b)"
   ]
  },
  {
   "cell_type": "code",
   "execution_count": null,
   "metadata": {},
   "outputs": [],
   "source": [
    "\n",
    "# a = pd.DataFrame(read[\"items\"][0]).reset_index()\n",
    "# a.at[4, \"track\"]"
   ]
  },
  {
   "cell_type": "code",
   "execution_count": 213,
   "metadata": {},
   "outputs": [],
   "source": [
    "# a.to_csv(\"/Users/apple/Desktop/spotifycode/ test12.csv\", index = False)"
   ]
  }
 ],
 "metadata": {
  "kernelspec": {
   "display_name": "Python 3",
   "language": "python",
   "name": "python3"
  },
  "language_info": {
   "codemirror_mode": {
    "name": "ipython",
    "version": 3
   },
   "file_extension": ".py",
   "mimetype": "text/x-python",
   "name": "python",
   "nbconvert_exporter": "python",
   "pygments_lexer": "ipython3",
   "version": "3.11.0"
  },
  "orig_nbformat": 4,
  "vscode": {
   "interpreter": {
    "hash": "aee8b7b246df8f9039afb4144a1f6fd8d2ca17a180786b69acc140d282b71a49"
   }
  }
 },
 "nbformat": 4,
 "nbformat_minor": 2
}
