{
 "cells": [
  {
   "cell_type": "code",
   "execution_count": 2,
   "metadata": {},
   "outputs": [],
   "source": [
    "import pandas as pd \n",
    "import pip._vendor.requests as requests\n",
    "import spotipy\n",
    "import numpy as np\n",
    "import matplotlib as plt\n",
    "from spotipy.oauth2 import SpotifyOAuth\n",
    "import matplotlib.pyplot as plt\n",
    "from sklearn import metrics\n",
    "from sklearn.metrics import accuracy_score\n",
    "from sklearn.metrics import mean_squared_error\n",
    "from sklearn.preprocessing import LabelEncoder,MinMaxScaler\n",
    "from sklearn.model_selection import train_test_split\n",
    "from sklearn.cluster import KMeans\n",
    "from sklearn.svm import SVC\n",
    "from sklearn.datasets import load_iris\n",
    "from sklearn.multiclass import OutputCodeClassifier\n",
    "from sklearn.multiclass import OneVsRestClassifier\n",
    "from sklearn.multiclass import OneVsOneClassifier\n",
    "from sklearn.metrics import accuracy_score\n",
    "from sklearn.naive_bayes import MultinomialNB\n",
    "from sklearn.linear_model import LogisticRegression\n",
    "from sklearn.preprocessing import StandardScaler\n",
    "from sklearn.linear_model import LinearRegression \n",
    "from  sklearn.neural_network import MLPClassifier\n",
    "from sklearn.model_selection import GridSearchCV\n",
    "from sklearn.model_selection import StratifiedKFold\n",
    "from sklearn.feature_selection import RFECV\n",
    "from sklearn.ensemble import RandomForestClassifier \n",
    "import re\n",
    "scope1 = \"user-library-read\"\n",
    "from spotipy.oauth2 import SpotifyClientCredentials\n",
    "sp =spotipy.Spotify(auth_manager= SpotifyOAuth(client_id = \"15fd015d4da742d0bf7da9c6ed3120c7\", client_secret = \"349c5181636e4e3cbb974b051db425fd\", redirect_uri = \"http://localhost\", scope= scope1))\n",
    "scope1 = \"user-library-read\"\n",
    "from spotipy.oauth2 import SpotifyClientCredentials\n",
    "sp =spotipy.Spotify(auth_manager= SpotifyOAuth(client_id = \"15fd015d4da742d0bf7da9c6ed3120c7\", client_secret = \"349c5181636e4e3cbb974b051db425fd\", redirect_uri = \"http://localhost\", scope= scope1))"
   ]
  },
  {
   "cell_type": "code",
   "execution_count": null,
   "metadata": {},
   "outputs": [],
   "source": [
    "#gather data using soptify API\n",
    "\n",
    "output = pd.DataFrame()\n",
    "target_id = re.search(r'playlist\\/(.*)\\?', playlistlink).group(1)\n",
    "name = sp.playlist(playlistlink)[\"name\"]\n",
    "read = sp.playlist_tracks(playlistlink)\n",
    "for i in range (len(pd.DataFrame(read))) :\n",
    "    song = pd.DataFrame(read[\"items\"][i]).reset_index()\n",
    "    song_uri = song.at[4, \"track\"]\n",
    "    analysis = sp.audio_features(song_uri)\n",
    "    analy = pd.DataFrame(analysis)\n",
    "    output = pd.concat([output, analy])\n",
    "output = output.drop([\"mode\", \"duration_ms\", \"time_signature\" , \"type\"], axis= 1)"
   ]
  },
  {
   "cell_type": "code",
   "execution_count": 3,
   "metadata": {},
   "outputs": [],
   "source": [
    "output = pd.read_csv(\"total.csv\")"
   ]
  },
  {
   "cell_type": "code",
   "execution_count": 6,
   "metadata": {},
   "outputs": [],
   "source": [
    "output.loc[output[\"tag\"] == \"calm\", \"tag\"] = 0\n",
    "output.loc[output[\"tag\"] == \"happy\", \"tag\"] = 1\n",
    "output.loc[output[\"tag\"] == \"energ\", \"tag\"] = 2\n",
    "output.loc[output[\"tag\"] == \"sad\", \"tag\"] = 3"
   ]
  },
  {
   "cell_type": "code",
   "execution_count": 7,
   "metadata": {},
   "outputs": [],
   "source": [
    "\n",
    "# Normalize the DataFrame to be between 0 and 1\n",
    "min_value = output[[\"Tempo\"]].min().min()\n",
    "max_value = output[[\"Tempo\"]].max().max()\n",
    "output[\"Tempo\"] = (output[[\"Tempo\"]] - min_value) / (max_value - min_value)\n",
    "\n",
    "min_value = output[[\"Loudness\"]].min().min()\n",
    "max_value = output[[\"Loudness\"]].max().max()\n",
    "output[\"Loudness\"] = (output[[\"Loudness\"]] - min_value) / (max_value - min_value)\n",
    "\n",
    "min_value = output[[\"Key\"]].min().min()\n",
    "max_value = output[[\"Key\"]].max().max()\n",
    "output[\"Key\"] = (output[[\"Key\"]] - min_value) / (max_value - min_value)\n",
    "\n"
   ]
  },
  {
   "attachments": {},
   "cell_type": "markdown",
   "metadata": {},
   "source": [
    "*starting to classifed*"
   ]
  },
  {
   "cell_type": "code",
   "execution_count": 8,
   "metadata": {},
   "outputs": [
    {
     "data": {
      "text/plain": [
       "tag    int64\n",
       "dtype: object"
      ]
     },
     "execution_count": 8,
     "metadata": {},
     "output_type": "execute_result"
    }
   ],
   "source": [
    "#target cloumn\n",
    "column_select = output[[\"Danceability\", \"Energy\", \"Key\", \"Loudness\", \"Speechiness\", \"Acousticness\", \"Instrumentalness\", \"Liveness\", \"Valence\", \"Tempo\"]]\n",
    "data_target = output[[\"tag\"]].astype(int)\n",
    "data_target.dtypes"
   ]
  },
  {
   "cell_type": "code",
   "execution_count": 10,
   "metadata": {},
   "outputs": [
    {
     "data": {
      "text/html": [
       "<div>\n",
       "<style scoped>\n",
       "    .dataframe tbody tr th:only-of-type {\n",
       "        vertical-align: middle;\n",
       "    }\n",
       "\n",
       "    .dataframe tbody tr th {\n",
       "        vertical-align: top;\n",
       "    }\n",
       "\n",
       "    .dataframe thead th {\n",
       "        text-align: right;\n",
       "    }\n",
       "</style>\n",
       "<table border=\"1\" class=\"dataframe\">\n",
       "  <thead>\n",
       "    <tr style=\"text-align: right;\">\n",
       "      <th></th>\n",
       "      <th>RMSE</th>\n",
       "      <th>accuracy_score</th>\n",
       "    </tr>\n",
       "  </thead>\n",
       "  <tbody>\n",
       "    <tr>\n",
       "      <th>0</th>\n",
       "      <td>0.995004</td>\n",
       "      <td>0.694352</td>\n",
       "    </tr>\n",
       "    <tr>\n",
       "      <th>1</th>\n",
       "      <td>1.004971</td>\n",
       "      <td>0.694352</td>\n",
       "    </tr>\n",
       "    <tr>\n",
       "      <th>2</th>\n",
       "      <td>0.993333</td>\n",
       "      <td>0.707641</td>\n",
       "    </tr>\n",
       "    <tr>\n",
       "      <th>3</th>\n",
       "      <td>1.013202</td>\n",
       "      <td>0.694352</td>\n",
       "    </tr>\n",
       "    <tr>\n",
       "      <th>4</th>\n",
       "      <td>0.993333</td>\n",
       "      <td>0.707641</td>\n",
       "    </tr>\n",
       "    <tr>\n",
       "      <th>...</th>\n",
       "      <td>...</td>\n",
       "      <td>...</td>\n",
       "    </tr>\n",
       "    <tr>\n",
       "      <th>1995</th>\n",
       "      <td>1.013202</td>\n",
       "      <td>0.704319</td>\n",
       "    </tr>\n",
       "    <tr>\n",
       "      <th>1996</th>\n",
       "      <td>0.986621</td>\n",
       "      <td>0.720930</td>\n",
       "    </tr>\n",
       "    <tr>\n",
       "      <th>1997</th>\n",
       "      <td>0.993333</td>\n",
       "      <td>0.714286</td>\n",
       "    </tr>\n",
       "    <tr>\n",
       "      <th>1998</th>\n",
       "      <td>0.976467</td>\n",
       "      <td>0.720930</td>\n",
       "    </tr>\n",
       "    <tr>\n",
       "      <th>1999</th>\n",
       "      <td>0.981558</td>\n",
       "      <td>0.720930</td>\n",
       "    </tr>\n",
       "  </tbody>\n",
       "</table>\n",
       "<p>2000 rows × 2 columns</p>\n",
       "</div>"
      ],
      "text/plain": [
       "          RMSE  accuracy_score\n",
       "0     0.995004        0.694352\n",
       "1     1.004971        0.694352\n",
       "2     0.993333        0.707641\n",
       "3     1.013202        0.694352\n",
       "4     0.993333        0.707641\n",
       "...        ...             ...\n",
       "1995  1.013202        0.704319\n",
       "1996  0.986621        0.720930\n",
       "1997  0.993333        0.714286\n",
       "1998  0.976467        0.720930\n",
       "1999  0.981558        0.720930\n",
       "\n",
       "[2000 rows x 2 columns]"
      ]
     },
     "execution_count": 10,
     "metadata": {},
     "output_type": "execute_result"
    }
   ],
   "source": [
    "song_x_train, song_x_test, song_y_train, song_y_test = train_test_split(column_select, data_target, test_size= 0.2, random_state= 42)\n",
    "df_result = []\n",
    "\n",
    "for i in range(2000):\n",
    "    model = OneVsRestClassifier(MLPClassifier(hidden_layer_sizes= (16, 10,), activation= \"logistic\",max_iter= 1000, learning_rate_init= 0.01, alpha = 0.01), n_jobs = -1)\n",
    "    song_y_train = np.ravel(song_y_train)\n",
    "    song_y_test = np.ravel(song_y_test)\n",
    "    model.fit(song_x_train,song_y_train)\n",
    "    song_y_predict = model.predict(song_x_test)\n",
    "    output = {\"RMSE\": np.sqrt(mean_squared_error(song_y_test,song_y_predict)), \"accuracy_score\":metrics.accuracy_score(song_y_test, song_y_predict)}\n",
    "    df_result.append(output)\n",
    "        # print(\"RMSE\", np.sqrt(mean_squared_error(song_y_test,song_y_predict)))\n",
    "        # print(metrics.accuracy_score(song_y_test, song_y_predict))\n",
    "        # print(\"------\")\n",
    "df_analysis = pd.DataFrame(df_result)\n",
    "df_analysis"
   ]
  },
  {
   "cell_type": "code",
   "execution_count": 23,
   "metadata": {},
   "outputs": [
    {
     "data": {
      "text/plain": [
       "2000"
      ]
     },
     "execution_count": 23,
     "metadata": {},
     "output_type": "execute_result"
    }
   ],
   "source": [
    "len(df_analysis)"
   ]
  },
  {
   "cell_type": "code",
   "execution_count": 27,
   "metadata": {},
   "outputs": [
    {
     "data": {
      "text/plain": [
       "(array([ 2.,  0.,  0.,  0.,  0.,  0.,  1.,  1.,  0.,  0.,  3.,  0.,  4.,\n",
       "         2.,  1.,  2.,  5.,  6.,  6.,  4.,  8., 16., 13., 13., 24., 11.,\n",
       "        17., 15., 34., 28., 22., 36., 33., 32., 45., 46., 44., 49., 55.,\n",
       "        49., 51., 51., 64., 62., 63., 65., 66., 55., 54., 58., 60., 52.,\n",
       "        58., 53., 45., 45., 49., 38., 34., 41., 37., 39., 32., 27., 20.,\n",
       "        18., 25., 22., 11.,  7., 11., 10.,  7.,  6.,  2.,  9.,  2.,  6.,\n",
       "         5.,  3.,  4.,  1.,  0.,  2.,  1.,  0.,  0.,  0.,  1.,  0.,  0.,\n",
       "         0.,  0.,  0.,  0.,  0.,  0.,  0.,  0.,  1.]),\n",
       " array([0.66477435, 0.66554378, 0.66631321, 0.66708264, 0.66785207,\n",
       "        0.6686215 , 0.66939093, 0.67016036, 0.67092979, 0.67169922,\n",
       "        0.67246865, 0.67323808, 0.67400751, 0.67477694, 0.67554636,\n",
       "        0.67631579, 0.67708522, 0.67785465, 0.67862408, 0.67939351,\n",
       "        0.68016294, 0.68093237, 0.6817018 , 0.68247123, 0.68324066,\n",
       "        0.68401009, 0.68477952, 0.68554895, 0.68631838, 0.68708781,\n",
       "        0.68785724, 0.68862667, 0.6893961 , 0.69016553, 0.69093496,\n",
       "        0.69170439, 0.69247382, 0.69324325, 0.69401268, 0.69478211,\n",
       "        0.69555154, 0.69632097, 0.69709039, 0.69785982, 0.69862925,\n",
       "        0.69939868, 0.70016811, 0.70093754, 0.70170697, 0.7024764 ,\n",
       "        0.70324583, 0.70401526, 0.70478469, 0.70555412, 0.70632355,\n",
       "        0.70709298, 0.70786241, 0.70863184, 0.70940127, 0.7101707 ,\n",
       "        0.71094013, 0.71170956, 0.71247899, 0.71324842, 0.71401785,\n",
       "        0.71478728, 0.71555671, 0.71632614, 0.71709557, 0.71786499,\n",
       "        0.71863442, 0.71940385, 0.72017328, 0.72094271, 0.72171214,\n",
       "        0.72248157, 0.723251  , 0.72402043, 0.72478986, 0.72555929,\n",
       "        0.72632872, 0.72709815, 0.72786758, 0.72863701, 0.72940644,\n",
       "        0.73017587, 0.7309453 , 0.73171473, 0.73248416, 0.73325359,\n",
       "        0.73402302, 0.73479245, 0.73556188, 0.73633131, 0.73710074,\n",
       "        0.73787017, 0.7386396 , 0.73940902, 0.74017845, 0.74094788,\n",
       "        0.74171731]),\n",
       " <BarContainer object of 100 artists>)"
      ]
     },
     "execution_count": 27,
     "metadata": {},
     "output_type": "execute_result"
    },
    {
     "data": {
      "image/png": "[encoded data removed]",
      "text/plain": [
       "<Figure size 640x480 with 1 Axes>"
      ]
     },
     "metadata": {},
     "output_type": "display_data"
    }
   ],
   "source": [
    "mean = df_analysis[\"accuracy_score\"].mean()\n",
    "std = df_analysis[\"accuracy_score\"].std()\n",
    "normal = np.random.normal(mean, std, size = len(df_analysis))\n",
    "plt.hist(normal, bins = 100,)"
   ]
  },
  {
   "cell_type": "code",
   "execution_count": 22,
   "metadata": {},
   "outputs": [
    {
     "data": {
      "text/plain": [
       "(array([ 0.38120652,  0.        ,  0.        ,  0.        ,  0.        ,\n",
       "         0.        ,  0.        ,  0.        ,  0.38120652,  0.38120652,\n",
       "         0.        ,  0.38120652,  0.38120652,  0.76241305,  0.        ,\n",
       "         0.        ,  0.38120652,  1.14361957,  0.        ,  0.        ,\n",
       "         1.14361957,  1.90603262,  1.5248261 ,  2.28723914,  1.14361957,\n",
       "         3.81206524,  4.57447829,  3.81206524,  3.04965219,  3.43085872,\n",
       "         2.66844567,  3.43085872,  6.86171743,  7.62413048,  5.71809786,\n",
       "        11.0549892 ,  8.76775005, 11.43619572, 12.57981529, 14.48584791,\n",
       "        11.43619572, 13.72343486, 15.62946748, 22.10997839, 20.5851523 ,\n",
       "        19.0603262 , 24.01601101, 24.01601101, 17.15429358, 25.92204363,\n",
       "        22.87239144, 27.82807625, 20.20394577, 18.67911968, 20.20394577,\n",
       "        19.82273925, 25.15963058, 25.54083711, 22.49118492, 22.87239144,\n",
       "        19.0603262 , 21.34756534, 17.91670663, 17.15429358, 13.72343486,\n",
       "        16.77308706, 12.57981529, 11.0549892 , 10.29257615, 11.81740224,\n",
       "         8.38654353,  9.14895658,  9.14895658,  7.24292396,  3.43085872,\n",
       "         7.62413048,  5.33689134,  5.33689134,  2.66844567,  3.81206524,\n",
       "         1.5248261 ,  0.76241305,  3.04965219,  1.90603262,  1.90603262,\n",
       "         0.        ,  0.38120652,  1.5248261 ,  1.14361957,  0.76241305,\n",
       "         0.38120652,  0.        ,  0.        ,  0.        ,  0.        ,\n",
       "         0.        ,  0.        ,  0.        ,  0.        ,  0.38120652]),\n",
       " array([0.93229282, 0.93360444, 0.93491607, 0.93622769, 0.93753932,\n",
       "        0.93885094, 0.94016257, 0.94147419, 0.94278582, 0.94409744,\n",
       "        0.94540907, 0.94672069, 0.94803232, 0.94934394, 0.95065557,\n",
       "        0.95196719, 0.95327882, 0.95459044, 0.95590207, 0.95721369,\n",
       "        0.95852532, 0.95983694, 0.96114857, 0.96246019, 0.96377182,\n",
       "        0.96508344, 0.96639507, 0.96770669, 0.96901832, 0.97032994,\n",
       "        0.97164157, 0.97295319, 0.97426482, 0.97557644, 0.97688807,\n",
       "        0.97819969, 0.97951132, 0.98082294, 0.98213457, 0.98344619,\n",
       "        0.98475782, 0.98606944, 0.98738107, 0.98869269, 0.99000432,\n",
       "        0.99131594, 0.99262757, 0.99393919, 0.99525082, 0.99656244,\n",
       "        0.99787407, 0.99918569, 1.00049732, 1.00180894, 1.00312057,\n",
       "        1.00443219, 1.00574382, 1.00705544, 1.00836707, 1.00967869,\n",
       "        1.01099032, 1.01230194, 1.01361357, 1.01492519, 1.01623682,\n",
       "        1.01754844, 1.01886007, 1.02017169, 1.02148332, 1.02279494,\n",
       "        1.02410657, 1.02541819, 1.02672982, 1.02804144, 1.02935307,\n",
       "        1.03066469, 1.03197632, 1.03328794, 1.03459957, 1.03591119,\n",
       "        1.03722282, 1.03853444, 1.03984607, 1.04115769, 1.04246932,\n",
       "        1.04378094, 1.04509257, 1.04640419, 1.04771582, 1.04902744,\n",
       "        1.05033907, 1.05165069, 1.05296232, 1.05427394, 1.05558557,\n",
       "        1.05689719, 1.05820882, 1.05952044, 1.06083207, 1.06214369,\n",
       "        1.06345532]),\n",
       " <BarContainer object of 100 artists>)"
      ]
     },
     "execution_count": 22,
     "metadata": {},
     "output_type": "execute_result"
    },
    {
     "data": {
      "image/png": "[encoded data removed]",
      "text/plain": [
       "<Figure size 640x480 with 1 Axes>"
      ]
     },
     "metadata": {},
     "output_type": "display_data"
    }
   ],
   "source": [
    "mean = df_analysis[\"RMSE\"].mean()\n",
    "std = df_analysis[\"RMSE\"].std()\n",
    "normal = np.random.normal(mean, std, size = len(df_analysis))\n",
    "plt.hist(normal, bins = 100, density= True)"
   ]
  },
  {
   "cell_type": "code",
   "execution_count": null,
   "metadata": {},
   "outputs": [],
   "source": []
  }
 ],
 "metadata": {
  "kernelspec": {
   "display_name": "Python 3",
   "language": "python",
   "name": "python3"
  },
  "language_info": {
   "codemirror_mode": {
    "name": "ipython",
    "version": 3
   },
   "file_extension": ".py",
   "mimetype": "text/x-python",
   "name": "python",
   "nbconvert_exporter": "python",
   "pygments_lexer": "ipython3",
   "version": "3.11.0"
  },
  "orig_nbformat": 4
 },
 "nbformat": 4,
 "nbformat_minor": 2
}
