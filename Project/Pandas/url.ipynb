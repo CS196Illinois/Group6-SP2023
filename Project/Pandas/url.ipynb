{
 "cells": [
  {
   "cell_type": "code",
   "execution_count": null,
   "metadata": {},
   "outputs": [],
   "source": [
    "import spotipy\n",
    "from spotipy.oauth2 import SpotifyOAuth\n",
    "\n",
    "# Set up authentication\n",
    "sp = spotipy.Spotify(auth_manager=SpotifyOAuth(client_id='<87a928e5713f44d082fdbb11eb0b8081>',\n",
    "                                               client_secret='<609f4ce2a45943429d6905cbe8f20752>',\n",
    "                                               redirect_uri='<http://localhost:5000/callback>',\n",
    "                                               scope='user-library-read'))\n",
    "\n",
    "# Get the user's liked songs\n",
    "results = sp.current_user_saved_tracks()\n",
    "tracks = results['items']\n",
    "\n",
    "while results['next']:\n",
    "    results = sp.next(results)\n",
    "    tracks.extend(results['items'])\n",
    "\n",
    "# Creates new playlist; confused here how we will implement username (i made account with username fortyfour1)\n",
    "playlist = sp.user_playlist_create(user='fortyfour1', name='My Liked Songs')\n",
    "\n",
    "# Add songs to the playlist\n",
    "song_uris = [track['track']['uri'] for track in tracks]\n",
    "sp.playlist_add_items(playlist_id=playlist['id'], items=song_uris)\n",
    "\n",
    "# Get the URL of the new playlist\n",
    "playlist_url = playlist['external_urls']['spotify']\n",
    "print(f\"Playlist URL: {playlist_url}\")\n"
   ]
  },
  {
   "cell_type": "code",
   "execution_count": null,
   "metadata": {},
   "outputs": [],
   "source": [
    "import spotipy\n",
    "from spotipy.oauth2 import SpotifyOAuth\n",
    "\n",
    "# Set up authentication\n",
    "sp = spotipy.Spotify(auth_manager=SpotifyOAuth(client_id='<87a928e5713f44d082fdbb11eb0b8081>',\n",
    "                                               client_secret='<609f4ce2a45943429d6905cbe8f20752>',\n",
    "                                               redirect_uri='http://localhost:5000/callback',\n",
    "                                               scope='user-library-read'))\n",
    "\n",
    "# Get the user's liked songs\n",
    "results = sp.current_user_saved_tracks()\n",
    "tracks = results['items']\n",
    "\n",
    "while results['next']:\n",
    "    results = sp.next(results)\n",
    "    tracks.extend(results['items'])\n",
    "\n",
    "# Extract the URL of each liked song\n",
    "song_urls = [track['track']['external_urls']['spotify'] for track in tracks]\n",
    "\n",
    "# Store the URLs in a file\n",
    "with open('liked_song_urls.txt', 'w') as f:\n",
    "    for url in song_urls:\n",
    "        f.write(url + '\\n')\n"
   ]
  }
 ],
 "metadata": {
  "language_info": {
   "name": "python"
  },
  "orig_nbformat": 4
 },
 "nbformat": 4,
 "nbformat_minor": 2
}
